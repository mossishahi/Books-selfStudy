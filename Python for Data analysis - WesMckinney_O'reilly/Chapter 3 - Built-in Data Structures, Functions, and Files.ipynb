{
 "cells": [
  {
   "cell_type": "markdown",
   "metadata": {},
   "source": [
    "## Tuple"
   ]
  },
  {
   "cell_type": "code",
   "execution_count": 1,
   "metadata": {},
   "outputs": [
    {
     "name": "stdout",
     "output_type": "stream",
     "text": [
      "type of T3: <class 'list'>\n",
      "type of T4: <class 'tuple'>\n",
      "(6, 7) <class 'tuple'> 5 <class 'int'>\n",
      "a=1, b=2, c=3\n",
      "a=4, b=5, c=6\n",
      "a=7, b=8, c=9\n"
     ]
    },
    {
     "data": {
      "text/plain": [
       "([(6, 7), 0, 0], list, (6, 7), tuple)"
      ]
     },
     "execution_count": 1,
     "metadata": {},
     "output_type": "execute_result"
    }
   ],
   "source": [
    "#can be made of any sequence type, list or String, etc.\n",
    "t1 = (1, 2, 3, 6, 7)\n",
    "\n",
    "list_l = [1, 2, 3, 6, 7]\n",
    "t2 = tuple(list_l)\n",
    "\n",
    "#Lists and Tuples inside each other:\n",
    "list_l2 = [[1, 2], 3, 6, 7]\n",
    "t3 = tuple(list_l2)\n",
    "print(\"type of T3:\", type(t3[0]))\n",
    "t4 = [(1,2), (3,4), (5,6)]\n",
    "print(\"type of T4:\", type(t4[0]))\n",
    "\n",
    "#divide a tuple to its items\n",
    "tup = (4, 5, (6, 7), 0, 0)\n",
    "a, b, c, d, e = tup\n",
    "print(c, type(c), b, type(b))\n",
    "\n",
    "### accessing tuple items \n",
    "temp_tuple = [(1, 2, 3), (4, 5, 6), (7, 8, 9)]\n",
    "for a, b, c in temp_tuple:\n",
    "    print('a={0}, b={1}, c={2}'.format(a, b, c))\n",
    "\n",
    "#discard the REST of values\n",
    "t, f, *rest = tup  #in the same way you can write: d, *_ = tup \n",
    "\n",
    "rest, type(rest), rest[0], type(rest[0])"
   ]
  },
  {
   "cell_type": "code",
   "execution_count": 2,
   "metadata": {},
   "outputs": [
    {
     "data": {
      "text/plain": [
       "([1, 2], 3, 6, 7)"
      ]
     },
     "execution_count": 2,
     "metadata": {},
     "output_type": "execute_result"
    }
   ],
   "source": [
    "t3"
   ]
  },
  {
   "cell_type": "markdown",
   "metadata": {},
   "source": [
    "### Tuple's functions - only one function"
   ]
  },
  {
   "cell_type": "code",
   "execution_count": 3,
   "metadata": {},
   "outputs": [
    {
     "data": {
      "text/plain": [
       "2"
      ]
     },
     "execution_count": 3,
     "metadata": {},
     "output_type": "execute_result"
    }
   ],
   "source": [
    "tup.count(0)"
   ]
  },
  {
   "cell_type": "code",
   "execution_count": null,
   "metadata": {},
   "outputs": [],
   "source": []
  },
  {
   "cell_type": "code",
   "execution_count": 9,
   "metadata": {},
   "outputs": [
    {
     "data": {
      "text/plain": [
       "list"
      ]
     },
     "execution_count": 9,
     "metadata": {},
     "output_type": "execute_result"
    }
   ],
   "source": [
    "a = (2, \"a00\")\n",
    "b = [2, \"a\"]\n",
    "type(b)"
   ]
  },
  {
   "cell_type": "code",
   "execution_count": 10,
   "metadata": {},
   "outputs": [
    {
     "data": {
      "text/plain": [
       "2"
      ]
     },
     "execution_count": 10,
     "metadata": {},
     "output_type": "execute_result"
    }
   ],
   "source": [
    "a[0]"
   ]
  },
  {
   "cell_type": "markdown",
   "metadata": {},
   "source": [
    "## List"
   ]
  },
  {
   "cell_type": "code",
   "execution_count": 1,
   "metadata": {},
   "outputs": [
    {
     "data": {
      "text/plain": [
       "(list, tuple)"
      ]
     },
     "execution_count": 1,
     "metadata": {},
     "output_type": "execute_result"
    }
   ],
   "source": [
    "a = [1,2,3,4,5,6] #List\n",
    "t = (1,2,3,4,5,6) #Tuple\n",
    "\n",
    "t_list = list(t)\n",
    "t_list\n",
    "\n",
    "a_tuple = tuple(a)\n",
    "a_tuple\n",
    "\n",
    "type(a), type(a_tuple)"
   ]
  },
  {
   "cell_type": "code",
   "execution_count": 3,
   "metadata": {},
   "outputs": [
    {
     "data": {
      "text/plain": [
       "[1, 2, 3, 3, 4, 5, 6, 6.5]"
      ]
     },
     "execution_count": 3,
     "metadata": {},
     "output_type": "execute_result"
    }
   ],
   "source": [
    "a.insert(6, 6.5) #inPlace, gets (index, value)\n",
    "a.insert(2, 3)\n",
    "a"
   ]
  },
  {
   "cell_type": "code",
   "execution_count": 4,
   "metadata": {},
   "outputs": [
    {
     "data": {
      "text/plain": [
       "[1, 2, 3, 3, 4, 5, 6, 6.5, 7]"
      ]
     },
     "execution_count": 4,
     "metadata": {},
     "output_type": "execute_result"
    }
   ],
   "source": [
    "a.append(7) #Append is Computationally more efficient than insert, because insert should SHIFT ALL elements in memory\n",
    "a"
   ]
  },
  {
   "cell_type": "markdown",
   "metadata": {},
   "source": [
    "#### Difference between Tuple and List"
   ]
  },
  {
   "cell_type": "markdown",
   "metadata": {},
   "source": [
    "#### Mutable and imMutable"
   ]
  },
  {
   "cell_type": "code",
   "execution_count": 5,
   "metadata": {},
   "outputs": [
    {
     "ename": "AttributeError",
     "evalue": "'tuple' object has no attribute 'insert'",
     "output_type": "error",
     "traceback": [
      "\u001b[0;31m---------------------------------------------------------------------------\u001b[0m",
      "\u001b[0;31mAttributeError\u001b[0m                            Traceback (most recent call last)",
      "\u001b[0;32m<ipython-input-5-ebf3f74e6f15>\u001b[0m in \u001b[0;36m<module>\u001b[0;34m\u001b[0m\n\u001b[0;32m----> 1\u001b[0;31m \u001b[0mt\u001b[0m\u001b[0;34m.\u001b[0m\u001b[0minsert\u001b[0m\u001b[0;34m(\u001b[0m\u001b[0;36m6\u001b[0m\u001b[0;34m,\u001b[0m \u001b[0;36m6.5\u001b[0m\u001b[0;34m)\u001b[0m\u001b[0;34m\u001b[0m\u001b[0;34m\u001b[0m\u001b[0m\n\u001b[0m\u001b[1;32m      2\u001b[0m \u001b[0mt\u001b[0m\u001b[0;34m.\u001b[0m\u001b[0mappend\u001b[0m\u001b[0;34m(\u001b[0m\u001b[0;36m7\u001b[0m\u001b[0;34m)\u001b[0m\u001b[0;34m\u001b[0m\u001b[0;34m\u001b[0m\u001b[0m\n",
      "\u001b[0;31mAttributeError\u001b[0m: 'tuple' object has no attribute 'insert'"
     ]
    }
   ],
   "source": [
    "t.insert(6, 6.5)\n",
    "t.append(7)"
   ]
  },
  {
   "cell_type": "markdown",
   "metadata": {},
   "source": [
    "#### pop, and remove function"
   ]
  },
  {
   "cell_type": "code",
   "execution_count": 11,
   "metadata": {},
   "outputs": [
    {
     "data": {
      "text/plain": [
       "'baz'"
      ]
     },
     "execution_count": 11,
     "metadata": {},
     "output_type": "execute_result"
    }
   ],
   "source": [
    "string_list = ['foo', 'red', 'peekaboo', 'baz', 'dwarf']\n",
    "string_list.pop(-2) #inplace"
   ]
  },
  {
   "cell_type": "code",
   "execution_count": 12,
   "metadata": {},
   "outputs": [
    {
     "data": {
      "text/plain": [
       "['foo', 'red', 'peekaboo', 'dwarf']"
      ]
     },
     "execution_count": 12,
     "metadata": {},
     "output_type": "execute_result"
    }
   ],
   "source": [
    "string_list"
   ]
  },
  {
   "cell_type": "code",
   "execution_count": 15,
   "metadata": {},
   "outputs": [
    {
     "data": {
      "text/plain": [
       "'peekaboo'"
      ]
     },
     "execution_count": 15,
     "metadata": {},
     "output_type": "execute_result"
    }
   ],
   "source": [
    "string_list.pop() #The last item\n",
    "                  #inplace"
   ]
  },
  {
   "cell_type": "markdown",
   "metadata": {},
   "source": [
    "#### Extend and shorten lists"
   ]
  },
  {
   "cell_type": "code",
   "execution_count": 30,
   "metadata": {},
   "outputs": [
    {
     "name": "stdout",
     "output_type": "stream",
     "text": [
      "['foo', 'peekaboo', 'baz', 'dwarf']\n"
     ]
    },
    {
     "data": {
      "text/plain": [
       "tuple"
      ]
     },
     "execution_count": 30,
     "metadata": {},
     "output_type": "execute_result"
    }
   ],
   "source": [
    "string_list = ['foo', 'red', 'peekaboo', 'baz', 'dwarf']\n",
    "\n",
    "#remove method\n",
    "string_list.remove('red')\n",
    "print(string_list)\n",
    "string_list.insert(3, 'red')\n",
    "string_list.remove('red')\n",
    "\n",
    "# += operator\n",
    "string_list += ['Ali', 'Mohammad', ('ali', 'mohammad')]\n",
    "string_list\n",
    "type(string_list[6])"
   ]
  },
  {
   "cell_type": "code",
   "execution_count": 31,
   "metadata": {},
   "outputs": [
    {
     "name": "stdout",
     "output_type": "stream",
     "text": [
      "['foo', 'peekaboo', 'baz', 'dwarf', 'Ali', 'Mohammad', ('ali', 'mohammad'), 'Ex1', 'Ex2', 'Ex3', 'Ex4', 'Ex5']\n",
      "\n",
      "\n"
     ]
    }
   ],
   "source": [
    "#--------------------------------------------\n",
    "extension1 = ['Ex1']\n",
    "extension2 = ['Ex2']\n",
    "extension3 = ['Ex3']\n",
    "extension4 = ['Ex4']\n",
    "extension5 = ['Ex5']\n",
    "extension6 = ['Ex6']\n",
    "extensions = []\n",
    "for i in range(1, 6):\n",
    "    extensions.extend(eval('extension'+str(i)))\n",
    "#----------------------------------------------\n",
    "for extension in extensions:\n",
    "    string_list.append(extension)\n",
    "print(string_list)\n",
    "print('\\n') "
   ]
  },
  {
   "cell_type": "code",
   "execution_count": 32,
   "metadata": {},
   "outputs": [
    {
     "name": "stdout",
     "output_type": "stream",
     "text": [
      "['foo', 'peekaboo', 'baz', 'dwarf', 'Ali', 'Mohammad', ('ali', 'mohammad'), 'Ex1', 'Ex2', 'Ex3', 'Ex4', 'Ex5', 'E', 'x', '1', 'E', 'x', '2', 'E', 'x', '3', 'E', 'x', '4', 'E', 'x', '5']\n",
      "\n",
      "\n",
      "['foo', 'peekaboo', 'baz', 'dwarf', 'Ali', 'Mohammad', ('ali', 'mohammad'), 'Ex1', 'Ex2', 'Ex3', 'Ex4', 'Ex5', 'E', 'x', '1', 'E', 'x', '2', 'E', 'x', '3', 'E', 'x', '4', 'E', 'x', '5', 'E', 'x', '1', 'E', 'x', '2', 'E', 'x', '3', 'E', 'x', '4', 'E', 'x', '5']\n"
     ]
    }
   ],
   "source": [
    "# The difference between append and extend\n",
    "# APPEND gets an item, yet EXTEND method gets a list\n",
    "for extension in extensions:\n",
    "    string_list.extend(extension)\n",
    "print(string_list)\n",
    "print('\\n')\n",
    "\n",
    "# (+= acts like extend method)\n",
    "for extension in extensions:\n",
    "    string_list += extension\n",
    "print(string_list)"
   ]
  },
  {
   "cell_type": "markdown",
   "metadata": {},
   "source": [
    "### sort list"
   ]
  },
  {
   "cell_type": "code",
   "execution_count": 33,
   "metadata": {},
   "outputs": [
    {
     "name": "stdout",
     "output_type": "stream",
     "text": [
      "['foo', 'red', 'peekaboo', 'baz', 'dwarf']\n"
     ]
    },
    {
     "data": {
      "text/plain": [
       "['baz', 'dwarf', 'foo', 'peekaboo', 'red']"
      ]
     },
     "execution_count": 33,
     "metadata": {},
     "output_type": "execute_result"
    }
   ],
   "source": [
    "string_list = ['foo', 'red', 'peekaboo', 'baz', 'dwarf']\n",
    "print(string_list) \n",
    "string_list.sort() # inplace\n",
    "string_list"
   ]
  },
  {
   "cell_type": "code",
   "execution_count": 34,
   "metadata": {},
   "outputs": [
    {
     "data": {
      "text/plain": [
       "['baz', 'dwarf', 'foo', 'peekaboo', 'red']"
      ]
     },
     "execution_count": 34,
     "metadata": {},
     "output_type": "execute_result"
    }
   ],
   "source": [
    "sorted(string_list)"
   ]
  },
  {
   "cell_type": "markdown",
   "metadata": {},
   "source": [
    "#### * Interesting feature :)"
   ]
  },
  {
   "cell_type": "code",
   "execution_count": 12,
   "metadata": {},
   "outputs": [],
   "source": [
    "numbers_list = [(2,4), (3,6), (2, 4), (6,7), (-1, -8)]\n",
    "\n",
    "def comparator(tuple):\n",
    "    return tuple[0]*tuple[1]\n",
    "\n",
    "numbers_list.sort(key=comparator)"
   ]
  },
  {
   "cell_type": "code",
   "execution_count": 13,
   "metadata": {},
   "outputs": [
    {
     "data": {
      "text/plain": [
       "[(2, 4), (2, 4), (-1, -8), (3, 6), (6, 7)]"
      ]
     },
     "execution_count": 13,
     "metadata": {},
     "output_type": "execute_result"
    }
   ],
   "source": [
    "numbers_list"
   ]
  },
  {
   "cell_type": "markdown",
   "metadata": {},
   "source": [
    "#### Binary search for sorting - BISECT"
   ]
  },
  {
   "cell_type": "code",
   "execution_count": 16,
   "metadata": {},
   "outputs": [
    {
     "name": "stdout",
     "output_type": "stream",
     "text": [
      "4 4 1\n"
     ]
    }
   ],
   "source": [
    "import bisect\n",
    "c = [1, 2, 2, 2, 3, 4, 7]\n",
    "#Bisect finds an element in a list and returns the index\n",
    "    #What is the difference of three methods of bisect:\n",
    "    # if you want to insert or get the index of an item and another same value already exists in the List:\n",
    "    # bisect_right and bisect methods put the new item at the right of existing item\n",
    "    # bisect_left puts the new item at the left side of existing item \n",
    "\n",
    "print(bisect.bisect_right(c, 2), bisect.bisect(c, 2), bisect.bisect_left(c, 2))"
   ]
  },
  {
   "cell_type": "code",
   "execution_count": 20,
   "metadata": {},
   "outputs": [
    {
     "data": {
      "text/plain": [
       "[1, 2, -99, 2, 3, 3, 3, 3, 4, 7]"
      ]
     },
     "execution_count": 20,
     "metadata": {},
     "output_type": "execute_result"
    }
   ],
   "source": [
    "# insort Bisect = Inplace Sort\n",
    "bisect.insort(c, 3)\n",
    "c"
   ]
  },
  {
   "cell_type": "markdown",
   "metadata": {},
   "source": [
    "#### Slicing"
   ]
  },
  {
   "cell_type": "code",
   "execution_count": 27,
   "metadata": {},
   "outputs": [
    {
     "name": "stdout",
     "output_type": "stream",
     "text": [
      "[1, 2, -99, 2, 3, 3, 3, 3, 4, 7]\n",
      "<class 'list'>\n",
      "[3, 4]\n",
      "[1, -99, 3, 3, 4] [1, -99, 3, 3, 4]\n",
      "[7, 4, 3, 3, 3, 3, 2, -99, 2, 1]\n"
     ]
    }
   ],
   "source": [
    "c[2:3] = [-99] #the end index is excluded un Python\n",
    "print(c)\n",
    "print(type(c[2:3])) #it is not a number, however it is an individual \n",
    "print(c[-3:-1])   #index of arrays => to the end:[-(size of array), ...... , -3, -2, -1], from the first element: [0, 1, 2, 3, ....]\n",
    "print(c[::2], c[0:-1: 2]) #from start to end, Step :2\n",
    "print(c[::-1]) # a technique to Reverse the List "
   ]
  },
  {
   "cell_type": "markdown",
   "metadata": {},
   "source": [
    "## Enumerate"
   ]
  },
  {
   "cell_type": "code",
   "execution_count": 31,
   "metadata": {},
   "outputs": [
    {
     "data": {
      "text/plain": [
       "{1: 'foo', 2: 'red', 3: 'peekaboo', 4: 'dwarf'}"
      ]
     },
     "execution_count": 31,
     "metadata": {},
     "output_type": "execute_result"
    }
   ],
   "source": [
    "map = {}\n",
    "for i, string in enumerate(string_list):\n",
    "    map[i+1] = string # map[key] = Value\n",
    "map"
   ]
  },
  {
   "cell_type": "markdown",
   "metadata": {},
   "source": [
    "## Zip"
   ]
  },
  {
   "cell_type": "code",
   "execution_count": 32,
   "metadata": {},
   "outputs": [
    {
     "name": "stdout",
     "output_type": "stream",
     "text": [
      "<zip object at 0x7f2c4407e648>\n"
     ]
    }
   ],
   "source": [
    "numerical = [1, 2, 3, 4]\n",
    "English = ['one', 'two', 'three']\n",
    "Persian = ['Yek', 'Do', 'Se']\n",
    "\n",
    "pairs = zip(numerical, English, Persian)\n",
    "print(pairs)"
   ]
  },
  {
   "cell_type": "code",
   "execution_count": 33,
   "metadata": {},
   "outputs": [
    {
     "name": "stdout",
     "output_type": "stream",
     "text": [
      "numerical value: 1, \n",
      " English word: one, \n",
      " Persian word: Yek\n",
      "numerical value: 2, \n",
      " English word: two, \n",
      " Persian word: Do\n",
      "numerical value: 3, \n",
      " English word: three, \n",
      " Persian word: Se\n"
     ]
    }
   ],
   "source": [
    "for i, (a, b, c) in enumerate(pairs):\n",
    "    print(\"numerical value: {0}, \\n English word: {1}, \\n Persian word: {2}\".format(a, b, c))"
   ]
  },
  {
   "cell_type": "markdown",
   "metadata": {},
   "source": [
    "### Reversed"
   ]
  },
  {
   "cell_type": "code",
   "execution_count": 176,
   "metadata": {},
   "outputs": [
    {
     "data": {
      "text/plain": [
       "[9, 8, 7, 6, 5, 4, 3, 2, 1]"
      ]
     },
     "execution_count": 176,
     "metadata": {},
     "output_type": "execute_result"
    }
   ],
   "source": [
    "rv = list(reversed(range(1, 10)))\n",
    "rv"
   ]
  },
  {
   "cell_type": "markdown",
   "metadata": {},
   "source": [
    "# Dict"
   ]
  },
  {
   "cell_type": "code",
   "execution_count": 34,
   "metadata": {},
   "outputs": [
    {
     "data": {
      "text/plain": [
       "{0: 0, 1: 1, 2: 4, 3: 9, 4: 16, 5: 25, 6: 36, 7: 49, 8: 64, 9: 81}"
      ]
     },
     "execution_count": 34,
     "metadata": {},
     "output_type": "execute_result"
    }
   ],
   "source": [
    "my_dict = {'a' : 'some value', 'b' : [1, 2, 3, 4]} #keys should be immutable\n",
    "my_dict['c'] = True\n",
    "my_dict['b']\n",
    "\n",
    "#make dicts Comprehension\n",
    "dict((i,i**2) for i in range(10))"
   ]
  },
  {
   "cell_type": "code",
   "execution_count": 186,
   "metadata": {},
   "outputs": [
    {
     "data": {
      "text/plain": [
       "(False, True)"
      ]
     },
     "execution_count": 186,
     "metadata": {},
     "output_type": "execute_result"
    }
   ],
   "source": [
    "'some value' in my_dict, 'a' in my_dict"
   ]
  },
  {
   "cell_type": "code",
   "execution_count": 36,
   "metadata": {},
   "outputs": [
    {
     "data": {
      "text/plain": [
       "(dict_keys(['a', 'b', 'c']), dict_values(['some value', [1, 2, 3, 4], True]))"
      ]
     },
     "execution_count": 36,
     "metadata": {},
     "output_type": "execute_result"
    }
   ],
   "source": [
    "my_dict.keys(), my_dict.values()"
   ]
  },
  {
   "cell_type": "code",
   "execution_count": 40,
   "metadata": {},
   "outputs": [
    {
     "name": "stdout",
     "output_type": "stream",
     "text": [
      "('a', 'some value') ('b', [1, 2, 3, 4]) ('c', True)\n"
     ]
    }
   ],
   "source": [
    "a, b, c = my_dict.items()\n",
    "print(a, b, c)"
   ]
  },
  {
   "cell_type": "code",
   "execution_count": 54,
   "metadata": {},
   "outputs": [
    {
     "data": {
      "text/plain": [
       "{'a': 'some value', 'b': [1, 2, 3, 4], 'c': True}"
      ]
     },
     "execution_count": 54,
     "metadata": {},
     "output_type": "execute_result"
    }
   ],
   "source": [
    "my_dict"
   ]
  },
  {
   "cell_type": "code",
   "execution_count": 81,
   "metadata": {},
   "outputs": [
    {
     "name": "stdout",
     "output_type": "stream",
     "text": [
      "some value\n",
      "[1, 2, 3, 4]\n",
      "True\n"
     ]
    }
   ],
   "source": [
    "for i, t in enumerate(my_dict.items()):\n",
    "    print(t[1])"
   ]
  },
  {
   "cell_type": "markdown",
   "metadata": {},
   "source": [
    "#### access the key of a value"
   ]
  },
  {
   "cell_type": "code",
   "execution_count": 202,
   "metadata": {},
   "outputs": [
    {
     "name": "stdout",
     "output_type": "stream",
     "text": [
      "a\n",
      "a\n"
     ]
    }
   ],
   "source": [
    "# way 1: convert values to List and access their index\n",
    "print(list(my_dict.keys())[list(my_dict.values()).index('some value')])\n",
    "\n",
    "# way 2: \n",
    "print(next(key for key, value in my_dict.items() if value == 'some value'))"
   ]
  },
  {
   "cell_type": "markdown",
   "metadata": {},
   "source": [
    "### merge two dicts"
   ]
  },
  {
   "cell_type": "code",
   "execution_count": 66,
   "metadata": {},
   "outputs": [
    {
     "data": {
      "text/plain": [
       "{'Ali': 'Sara', 'Mani': 'Mahi', 'Akbar': 'Kobra', 'Asghar': 'Soghra'}"
      ]
     },
     "execution_count": 66,
     "metadata": {},
     "output_type": "execute_result"
    }
   ],
   "source": [
    "Tehran = {'Ali':'Sara', 'Mani':'Mahi'}\n",
    "Yazd = {'Akbar':'Kobra', 'Asghar':'Soghra'}\n",
    "\n",
    "partners = {}\n",
    "partners.update(Tehran) #in-place changes\n",
    "partners.update(Yazd)\n",
    "\n",
    "partners"
   ]
  },
  {
   "cell_type": "code",
   "execution_count": 67,
   "metadata": {},
   "outputs": [
    {
     "data": {
      "text/plain": [
       "'Soghra'"
      ]
     },
     "execution_count": 67,
     "metadata": {},
     "output_type": "execute_result"
    }
   ],
   "source": [
    "partners.pop('Asghar') #deletes and returns"
   ]
  },
  {
   "cell_type": "code",
   "execution_count": 69,
   "metadata": {},
   "outputs": [
    {
     "data": {
      "text/plain": [
       "{'Ali': 'Sara', 'Mani': 'Mahi', 'Akbar': 'Kobra'}"
      ]
     },
     "execution_count": 69,
     "metadata": {},
     "output_type": "execute_result"
    }
   ],
   "source": [
    "partners"
   ]
  },
  {
   "cell_type": "code",
   "execution_count": 72,
   "metadata": {},
   "outputs": [
    {
     "data": {
      "text/plain": [
       "('Mani', 'Mahi')"
      ]
     },
     "execution_count": 72,
     "metadata": {},
     "output_type": "execute_result"
    }
   ],
   "source": [
    "partners.popitem()"
   ]
  },
  {
   "cell_type": "code",
   "execution_count": 74,
   "metadata": {},
   "outputs": [],
   "source": [
    "# Whtat's the difference between pop and popItem ^_^"
   ]
  },
  {
   "cell_type": "markdown",
   "metadata": {},
   "source": [
    "### Set Default value for keys:"
   ]
  },
  {
   "cell_type": "code",
   "execution_count": 86,
   "metadata": {},
   "outputs": [
    {
     "name": "stdout",
     "output_type": "stream",
     "text": [
      "1\n"
     ]
    }
   ],
   "source": [
    "words = ['apple', 'bat', 'bar', 'atom', 'book']\n",
    "words_tuple = tuple(words)\n",
    "print(words_tuple.count('apple'))\n",
    "\n",
    "letters = {}\n",
    "for word in words:\n",
    "    for letter in word:\n",
    "        letters.setdefault(letter, []).append(word) "
   ]
  },
  {
   "cell_type": "code",
   "execution_count": 89,
   "metadata": {},
   "outputs": [],
   "source": [
    "letters = {}\n",
    "for word in words:\n",
    "    for letter in word:\n",
    "        letters.setdefault(letter, []).append(word)"
   ]
  },
  {
   "cell_type": "code",
   "execution_count": 88,
   "metadata": {},
   "outputs": [
    {
     "data": {
      "text/plain": [
       "{'a': ['apple', 'bat', 'bar', 'atom'],\n",
       " 'p': ['apple', 'apple'],\n",
       " 'l': ['apple'],\n",
       " 'e': ['apple'],\n",
       " 'b': ['bat', 'bar', 'book'],\n",
       " 't': ['bat', 'atom'],\n",
       " 'r': ['bar'],\n",
       " 'o': ['atom', 'book', 'book'],\n",
       " 'm': ['atom'],\n",
       " 'k': ['book']}"
      ]
     },
     "execution_count": 88,
     "metadata": {},
     "output_type": "execute_result"
    }
   ],
   "source": [
    "letters"
   ]
  },
  {
   "cell_type": "markdown",
   "metadata": {},
   "source": [
    "##### Immutable Objects:\n",
    "immutable objects, technically are called 'hashable'<br>\n",
    "keys of a dict should be immutable\n",
    "\n",
    "##### to check whether one objec is hashable:"
   ]
  },
  {
   "cell_type": "code",
   "execution_count": 79,
   "metadata": {},
   "outputs": [
    {
     "data": {
      "text/plain": [
       "(12, 1, 1962700878981860783, 2528502973976161366)"
      ]
     },
     "execution_count": 79,
     "metadata": {},
     "output_type": "execute_result"
    }
   ],
   "source": [
    "a = 12\n",
    "b = True\n",
    "c = 'ali'\n",
    "d = [1, 2, 4]\n",
    "t = tuple(d)\n",
    "\n",
    "hash(a), hash(b), hash(c), hash(t)"
   ]
  },
  {
   "cell_type": "code",
   "execution_count": 80,
   "metadata": {},
   "outputs": [
    {
     "ename": "TypeError",
     "evalue": "unhashable type: 'list'",
     "output_type": "error",
     "traceback": [
      "\u001b[0;31m---------------------------------------------------------------------------\u001b[0m",
      "\u001b[0;31mTypeError\u001b[0m                                 Traceback (most recent call last)",
      "\u001b[0;32m<ipython-input-80-b3b2d2048e4e>\u001b[0m in \u001b[0;36m<module>\u001b[0;34m\u001b[0m\n\u001b[0;32m----> 1\u001b[0;31m \u001b[0mhash\u001b[0m\u001b[0;34m(\u001b[0m\u001b[0md\u001b[0m\u001b[0;34m)\u001b[0m\u001b[0;34m\u001b[0m\u001b[0;34m\u001b[0m\u001b[0m\n\u001b[0m",
      "\u001b[0;31mTypeError\u001b[0m: unhashable type: 'list'"
     ]
    }
   ],
   "source": [
    "hash(d)"
   ]
  },
  {
   "cell_type": "markdown",
   "metadata": {},
   "source": [
    "## Set"
   ]
  },
  {
   "cell_type": "code",
   "execution_count": 90,
   "metadata": {},
   "outputs": [
    {
     "name": "stdout",
     "output_type": "stream",
     "text": [
      "{2, 3, 4, 5, 6, 8, 10, 11, 12} {2, 3, 4, 5, 6, 8}\n"
     ]
    },
    {
     "data": {
      "text/plain": [
       "{2, 3, 4, 5, 6, 8}"
      ]
     },
     "execution_count": 90,
     "metadata": {},
     "output_type": "execute_result"
    }
   ],
   "source": [
    "s1 = set((2, 3, 5, 6, 8, 2, 3, 4, 10, 11, 12))\n",
    "s2 = set([2, 3, 5, 6, 8, 2, 3, 4])\n",
    "\n",
    "temp = set([2, 3, 5])\n",
    "\n",
    "print(s1, s2)\n",
    "s1.union(s2) # ~ s1 | s2\n",
    "\n",
    "s1.intersection(s2) # ~ s1 & s2"
   ]
  },
  {
   "cell_type": "markdown",
   "metadata": {},
   "source": [
    "##### Subset, Superset"
   ]
  },
  {
   "cell_type": "code",
   "execution_count": 82,
   "metadata": {},
   "outputs": [
    {
     "data": {
      "text/plain": [
       "(True, False)"
      ]
     },
     "execution_count": 82,
     "metadata": {},
     "output_type": "execute_result"
    }
   ],
   "source": [
    "s1.issuperset(s2), s1.issubset(s2)"
   ]
  },
  {
   "cell_type": "markdown",
   "metadata": {},
   "source": [
    "##### Equal Sets"
   ]
  },
  {
   "cell_type": "code",
   "execution_count": 83,
   "metadata": {},
   "outputs": [
    {
     "data": {
      "text/plain": [
       "True"
      ]
     },
     "execution_count": 83,
     "metadata": {},
     "output_type": "execute_result"
    }
   ],
   "source": [
    "{(1, 2, 4)} == {(1, 2, 4)}"
   ]
  },
  {
   "cell_type": "markdown",
   "metadata": {},
   "source": [
    "### Union, difference"
   ]
  },
  {
   "cell_type": "code",
   "execution_count": 94,
   "metadata": {},
   "outputs": [
    {
     "name": "stdout",
     "output_type": "stream",
     "text": [
      "{2, 3, 4, 5, 6, 8, 10, 11, 12}\n",
      "{2, 3, 4, 5, 6, 8}\n",
      "{2, 3, 4, 5, 6, 8, 10, 11, 12}\n",
      "{2, 3, 4, 5, 6, 8, 10, 11, 12}\n"
     ]
    },
    {
     "data": {
      "text/plain": [
       "({2, 3, 5}, {2, 3, 4, 5, 6, 8})"
      ]
     },
     "execution_count": 94,
     "metadata": {},
     "output_type": "execute_result"
    }
   ],
   "source": [
    "print(s1 | s2) # s1.union(s2)\n",
    "print(s1 & s2) # s1.intersection(s2) elements occuring in both sets\n",
    "print(s1)\n",
    "s1 |= temp # s1.update(temp) ~ Set the contents of a to be the union of the elements in a and temp\n",
    "print(s1)\n",
    "s1 &= temp # s1.intersection_update(s1) \n",
    "s1, s2"
   ]
  },
  {
   "cell_type": "code",
   "execution_count": 95,
   "metadata": {},
   "outputs": [
    {
     "data": {
      "text/plain": [
       "{4, 6, 8}"
      ]
     },
     "execution_count": 95,
     "metadata": {},
     "output_type": "execute_result"
    }
   ],
   "source": [
    "s1 ^ s2 #Symmetric difference"
   ]
  },
  {
   "cell_type": "code",
   "execution_count": 96,
   "metadata": {},
   "outputs": [],
   "source": [
    "my_data = [1, 2, 3, 4]\n",
    "my_set = tuple(my_data)\n",
    "\n",
    "my_set = {(1, 2)} # you can define a Set using this syntax: {tuple}"
   ]
  },
  {
   "cell_type": "markdown",
   "metadata": {},
   "source": [
    "## List, set and Dict Comprehensions"
   ]
  },
  {
   "cell_type": "markdown",
   "metadata": {},
   "source": [
    "### List"
   ]
  },
  {
   "cell_type": "code",
   "execution_count": 100,
   "metadata": {},
   "outputs": [
    {
     "data": {
      "text/plain": [
       "[2, 3, 3, 4, 6]"
      ]
     },
     "execution_count": 100,
     "metadata": {},
     "output_type": "execute_result"
    }
   ],
   "source": [
    "strings = ['a', 'as', 'bat', 'car', 'dove', 'python']\n",
    "result = [len(x) for x in strings if len(x) >= 2]  # [ ... ]\n",
    "result "
   ]
  },
  {
   "cell_type": "markdown",
   "metadata": {},
   "source": []
  },
  {
   "cell_type": "code",
   "execution_count": 97,
   "metadata": {},
   "outputs": [
    {
     "data": {
      "text/plain": [
       "{'j': 'javier',\n",
       " 'o': 'john',\n",
       " 'h': 'michael',\n",
       " 'n': 'natalia',\n",
       " 'e': 'javier',\n",
       " 'm': 'maria',\n",
       " 'i': 'pilar',\n",
       " 'l': 'pilar',\n",
       " 'y': 'mary',\n",
       " 'c': 'michael',\n",
       " 'a': 'pilar',\n",
       " 'r': 'pilar',\n",
       " 's': 'steven',\n",
       " 't': 'natalia',\n",
       " 'v': 'javier',\n",
       " 'u': 'juan',\n",
       " 'p': 'pilar'}"
      ]
     },
     "execution_count": 97,
     "metadata": {},
     "output_type": "execute_result"
    }
   ],
   "source": [
    "all_data = [['John', 'Emily', 'Michael', 'Mary', 'Steven'], \n",
    "            ['Maria', 'Juan', 'Javier', 'Natalia', 'Pilar']]\n",
    "\n",
    "lower_case_names = []\n",
    "for names in all_data:\n",
    "    for name in names:\n",
    "        lower_case_names.append(name.lower())\n",
    "\n",
    "letter_map = {letter:word for word in lower_case_names for letter in word}\n",
    "letter_map"
   ]
  },
  {
   "cell_type": "code",
   "execution_count": 98,
   "metadata": {},
   "outputs": [
    {
     "data": {
      "text/plain": [
       "[4, 5, 7, 4, 6, 5, 4, 6, 7, 5]"
      ]
     },
     "execution_count": 98,
     "metadata": {},
     "output_type": "execute_result"
    }
   ],
   "source": [
    "lengths = [len(l) for ll in all_data for l in ll]\n",
    "\n",
    "lengths"
   ]
  },
  {
   "cell_type": "markdown",
   "metadata": {},
   "source": [
    "### Set"
   ]
  },
  {
   "cell_type": "code",
   "execution_count": 102,
   "metadata": {},
   "outputs": [
    {
     "data": {
      "text/plain": [
       "{1, 2, 3, 4, 6}"
      ]
     },
     "execution_count": 102,
     "metadata": {},
     "output_type": "execute_result"
    }
   ],
   "source": [
    "unique_lengths = {len(s) for s in strings}\n",
    "unique_lengths\n"
   ]
  },
  {
   "cell_type": "markdown",
   "metadata": {},
   "source": [
    "###### functional"
   ]
  },
  {
   "cell_type": "code",
   "execution_count": 3,
   "metadata": {},
   "outputs": [
    {
     "data": {
      "text/plain": [
       "{1, 2, 3, 4, 6}"
      ]
     },
     "execution_count": 3,
     "metadata": {},
     "output_type": "execute_result"
    }
   ],
   "source": [
    "set(map(len, strings))"
   ]
  },
  {
   "cell_type": "markdown",
   "metadata": {},
   "source": [
    "### Dict"
   ]
  },
  {
   "cell_type": "code",
   "execution_count": 12,
   "metadata": {},
   "outputs": [
    {
     "data": {
      "text/plain": [
       "{'a': 1, 'as': 2, 'bat': 3, 'car': 3, 'dove': 4, 'python': 6}"
      ]
     },
     "execution_count": 12,
     "metadata": {},
     "output_type": "execute_result"
    }
   ],
   "source": [
    "{value : len(value) for index, value in enumerate(strings)}"
   ]
  },
  {
   "cell_type": "code",
   "execution_count": 66,
   "metadata": {},
   "outputs": [],
   "source": [
    "words = ['apple', 'bat', 'bar', 'atom', 'book']"
   ]
  },
  {
   "cell_type": "markdown",
   "metadata": {},
   "source": [
    "# Functions"
   ]
  },
  {
   "cell_type": "markdown",
   "metadata": {},
   "source": [
    "Just to review some key applications of functions in python here"
   ]
  },
  {
   "cell_type": "code",
   "execution_count": 103,
   "metadata": {},
   "outputs": [
    {
     "data": {
      "text/plain": [
       "(5, 1)"
      ]
     },
     "execution_count": 103,
     "metadata": {},
     "output_type": "execute_result"
    }
   ],
   "source": [
    "words = ['apple', 'bat', 'bar', 'atom', 'book']\n",
    "\n",
    "# multiple outputs:\n",
    "def words_counter(words):\n",
    "        return len(words), words[0].count('a')\n",
    "words_counter(words)"
   ]
  },
  {
   "cell_type": "markdown",
   "metadata": {},
   "source": [
    "#### apply a list of functions to a list of arguments"
   ]
  },
  {
   "cell_type": "markdown",
   "metadata": {},
   "source": [
    "A more functional pattern like this enables you to easily modify how the strings are\n",
    "transformed at a very high level"
   ]
  },
  {
   "cell_type": "code",
   "execution_count": 89,
   "metadata": {},
   "outputs": [
    {
     "data": {
      "text/plain": [
       "['Alabama',\n",
       " 'Georgia',\n",
       " 'Georgia',\n",
       " 'Georgia',\n",
       " 'Florida',\n",
       " 'South Carolina',\n",
       " 'West Virginia']"
      ]
     },
     "execution_count": 89,
     "metadata": {},
     "output_type": "execute_result"
    }
   ],
   "source": [
    "import re\n",
    "\n",
    "states = [' Alabama ', 'Georgia!', 'Georgia', 'georgia', 'FlOrIda', 'south carolina##', 'West virginia?']\n",
    "\n",
    "def remove_punctuations(word):\n",
    "    return re.sub('[!#?]','', word)\n",
    "    \n",
    "functions = [str.strip,\n",
    "            remove_punctuations,\n",
    "            str.title]\n",
    "result = []\n",
    "\n",
    "for word in states:\n",
    "    for function in functions:\n",
    "        word = function(word)\n",
    "    result.append(word)\n",
    "    \n",
    "result"
   ]
  },
  {
   "cell_type": "markdown",
   "metadata": {},
   "source": [
    "### Anonymous Function"
   ]
  },
  {
   "cell_type": "markdown",
   "metadata": {},
   "source": [
    "#### lambda\n",
    "we want to apply a function to the items of a List"
   ]
  },
  {
   "cell_type": "code",
   "execution_count": 97,
   "metadata": {},
   "outputs": [
    {
     "data": {
      "text/plain": [
       "[8, 0, 2, 10, 12]"
      ]
     },
     "execution_count": 97,
     "metadata": {},
     "output_type": "execute_result"
    }
   ],
   "source": [
    "def apply_to_list(ints, function):\n",
    "    return [function(x) for x in ints]\n",
    "\n",
    "ints = [4, 0, 1, 5, 6]\n",
    "apply_to_list(ints, lambda x: x * 2)"
   ]
  },
  {
   "cell_type": "markdown",
   "metadata": {},
   "source": [
    "assume that we want to define a function for the **key** of sort function"
   ]
  },
  {
   "cell_type": "code",
   "execution_count": 100,
   "metadata": {},
   "outputs": [
    {
     "data": {
      "text/plain": [
       "['card', 'bar', 'foo', 'abab', 'aaaa']"
      ]
     },
     "execution_count": 100,
     "metadata": {},
     "output_type": "execute_result"
    }
   ],
   "source": [
    "strings = ['foo', 'card', 'bar', 'aaaa', 'abab']\n",
    "strings.sort(key=lambda x: len(set(list(x))), reverse=True)\n",
    "strings"
   ]
  },
  {
   "cell_type": "markdown",
   "metadata": {},
   "source": [
    "### Currying\n",
    "partial use of a function"
   ]
  },
  {
   "cell_type": "code",
   "execution_count": 104,
   "metadata": {},
   "outputs": [
    {
     "data": {
      "text/plain": [
       "5"
      ]
     },
     "execution_count": 104,
     "metadata": {},
     "output_type": "execute_result"
    }
   ],
   "source": [
    "def multiply_function(x, y):\n",
    "    return (x-2) * y\n",
    "\n",
    "mul_five = lambda x: multiply_function(x, 5)\n",
    "\n",
    "from functools import partial\n",
    "mul_five = partial(multiply_function, y = 5)\n",
    "\n",
    "mul_five(3)"
   ]
  },
  {
   "cell_type": "markdown",
   "metadata": {},
   "source": [
    "### Generator"
   ]
  },
  {
   "cell_type": "markdown",
   "metadata": {},
   "source": [
    "you can generate some things and save in a generator"
   ]
  },
  {
   "cell_type": "code",
   "execution_count": 105,
   "metadata": {
    "scrolled": true
   },
   "outputs": [
    {
     "name": "stdout",
     "output_type": "stream",
     "text": [
      "<generator object <genexpr> at 0x7f2c2ffd12a0>\n",
      "<generator object make_gen at 0x7f2c2ffd1408>\n",
      "0\n",
      "1\n",
      "4\n",
      "9\n",
      "16\n",
      "25\n",
      "36\n",
      "49\n",
      "64\n",
      "81\n",
      "100\n",
      "121\n",
      "144\n",
      "169\n",
      "196\n",
      "225\n",
      "256\n",
      "289\n",
      "324\n",
      "361\n",
      "400\n",
      "441\n",
      "484\n",
      "529\n",
      "576\n",
      "625\n",
      "676\n",
      "729\n",
      "784\n",
      "841\n",
      "900\n",
      "961\n",
      "1024\n",
      "1089\n",
      "1156\n",
      "1225\n",
      "1296\n",
      "1369\n",
      "1444\n",
      "1521\n",
      "1600\n",
      "1681\n",
      "1764\n",
      "1849\n",
      "1936\n",
      "2025\n",
      "2116\n",
      "2209\n",
      "2304\n",
      "2401\n",
      "2500\n",
      "2601\n",
      "2704\n",
      "2809\n",
      "2916\n",
      "3025\n",
      "3136\n",
      "3249\n",
      "3364\n",
      "3481\n",
      "3600\n",
      "3721\n",
      "3844\n",
      "3969\n",
      "4096\n",
      "4225\n",
      "4356\n",
      "4489\n",
      "4624\n",
      "4761\n",
      "4900\n",
      "5041\n",
      "5184\n",
      "5329\n",
      "5476\n",
      "5625\n",
      "5776\n",
      "5929\n",
      "6084\n",
      "6241\n",
      "6400\n",
      "6561\n",
      "6724\n",
      "6889\n",
      "7056\n",
      "7225\n",
      "7396\n",
      "7569\n",
      "7744\n",
      "7921\n",
      "8100\n",
      "8281\n",
      "8464\n",
      "8649\n",
      "8836\n",
      "9025\n",
      "9216\n",
      "9409\n",
      "9604\n",
      "9801\n"
     ]
    }
   ],
   "source": [
    "# two ways to make generator:\n",
    "\n",
    "# 1\n",
    "# use paranthesis in Comprehensions\n",
    "gen1 = (x**2 for x in range(100)) \n",
    "\n",
    "# 2\n",
    "# use Yield keyword\n",
    "def make_gen():\n",
    "    for i in range(10):\n",
    "        yield x**3\n",
    "gen2 = make_gen()\n",
    "\n",
    "print(gen1)\n",
    "print(gen2, end = '\\n')\n",
    "\n",
    "for item in gen1:\n",
    "    print(item)"
   ]
  },
  {
   "cell_type": "markdown",
   "metadata": {},
   "source": [
    "### Iterators"
   ]
  },
  {
   "cell_type": "code",
   "execution_count": 27,
   "metadata": {},
   "outputs": [
    {
     "name": "stdout",
     "output_type": "stream",
     "text": [
      "A ['Alan', 'Adam']\n",
      "W ['Wes', 'Will']\n",
      "A ['Albert']\n",
      "S ['Steven']\n",
      "('Alan', 'Alan', 'Alan', 'Alan')\n",
      "('Alan', 'Alan', 'Alan', 'Adam')\n",
      "('Alan', 'Alan', 'Alan', 'Wes')\n",
      "('Alan', 'Alan', 'Alan', 'Will')\n",
      "('Alan', 'Alan', 'Alan', 'Albert')\n",
      "('Alan', 'Alan', 'Alan', 'Steven')\n",
      "('Alan', 'Alan', 'Adam', 'Adam')\n",
      "('Alan', 'Alan', 'Adam', 'Wes')\n",
      "('Alan', 'Alan', 'Adam', 'Will')\n",
      "('Alan', 'Alan', 'Adam', 'Albert')\n",
      "('Alan', 'Alan', 'Adam', 'Steven')\n",
      "('Alan', 'Alan', 'Wes', 'Wes')\n",
      "('Alan', 'Alan', 'Wes', 'Will')\n",
      "('Alan', 'Alan', 'Wes', 'Albert')\n",
      "('Alan', 'Alan', 'Wes', 'Steven')\n",
      "('Alan', 'Alan', 'Will', 'Will')\n",
      "('Alan', 'Alan', 'Will', 'Albert')\n",
      "('Alan', 'Alan', 'Will', 'Steven')\n",
      "('Alan', 'Alan', 'Albert', 'Albert')\n",
      "('Alan', 'Alan', 'Albert', 'Steven')\n",
      "('Alan', 'Alan', 'Steven', 'Steven')\n",
      "('Alan', 'Adam', 'Adam', 'Adam')\n",
      "('Alan', 'Adam', 'Adam', 'Wes')\n",
      "('Alan', 'Adam', 'Adam', 'Will')\n",
      "('Alan', 'Adam', 'Adam', 'Albert')\n",
      "('Alan', 'Adam', 'Adam', 'Steven')\n",
      "('Alan', 'Adam', 'Wes', 'Wes')\n",
      "('Alan', 'Adam', 'Wes', 'Will')\n",
      "('Alan', 'Adam', 'Wes', 'Albert')\n",
      "('Alan', 'Adam', 'Wes', 'Steven')\n",
      "('Alan', 'Adam', 'Will', 'Will')\n",
      "('Alan', 'Adam', 'Will', 'Albert')\n",
      "('Alan', 'Adam', 'Will', 'Steven')\n",
      "('Alan', 'Adam', 'Albert', 'Albert')\n",
      "('Alan', 'Adam', 'Albert', 'Steven')\n",
      "('Alan', 'Adam', 'Steven', 'Steven')\n",
      "('Alan', 'Wes', 'Wes', 'Wes')\n",
      "('Alan', 'Wes', 'Wes', 'Will')\n",
      "('Alan', 'Wes', 'Wes', 'Albert')\n",
      "('Alan', 'Wes', 'Wes', 'Steven')\n",
      "('Alan', 'Wes', 'Will', 'Will')\n",
      "('Alan', 'Wes', 'Will', 'Albert')\n",
      "('Alan', 'Wes', 'Will', 'Steven')\n",
      "('Alan', 'Wes', 'Albert', 'Albert')\n",
      "('Alan', 'Wes', 'Albert', 'Steven')\n",
      "('Alan', 'Wes', 'Steven', 'Steven')\n",
      "('Alan', 'Will', 'Will', 'Will')\n",
      "('Alan', 'Will', 'Will', 'Albert')\n",
      "('Alan', 'Will', 'Will', 'Steven')\n",
      "('Alan', 'Will', 'Albert', 'Albert')\n",
      "('Alan', 'Will', 'Albert', 'Steven')\n",
      "('Alan', 'Will', 'Steven', 'Steven')\n",
      "('Alan', 'Albert', 'Albert', 'Albert')\n",
      "('Alan', 'Albert', 'Albert', 'Steven')\n",
      "('Alan', 'Albert', 'Steven', 'Steven')\n",
      "('Alan', 'Steven', 'Steven', 'Steven')\n",
      "('Adam', 'Adam', 'Adam', 'Adam')\n",
      "('Adam', 'Adam', 'Adam', 'Wes')\n",
      "('Adam', 'Adam', 'Adam', 'Will')\n",
      "('Adam', 'Adam', 'Adam', 'Albert')\n",
      "('Adam', 'Adam', 'Adam', 'Steven')\n",
      "('Adam', 'Adam', 'Wes', 'Wes')\n",
      "('Adam', 'Adam', 'Wes', 'Will')\n",
      "('Adam', 'Adam', 'Wes', 'Albert')\n",
      "('Adam', 'Adam', 'Wes', 'Steven')\n",
      "('Adam', 'Adam', 'Will', 'Will')\n",
      "('Adam', 'Adam', 'Will', 'Albert')\n",
      "('Adam', 'Adam', 'Will', 'Steven')\n",
      "('Adam', 'Adam', 'Albert', 'Albert')\n",
      "('Adam', 'Adam', 'Albert', 'Steven')\n",
      "('Adam', 'Adam', 'Steven', 'Steven')\n",
      "('Adam', 'Wes', 'Wes', 'Wes')\n",
      "('Adam', 'Wes', 'Wes', 'Will')\n",
      "('Adam', 'Wes', 'Wes', 'Albert')\n",
      "('Adam', 'Wes', 'Wes', 'Steven')\n",
      "('Adam', 'Wes', 'Will', 'Will')\n",
      "('Adam', 'Wes', 'Will', 'Albert')\n",
      "('Adam', 'Wes', 'Will', 'Steven')\n",
      "('Adam', 'Wes', 'Albert', 'Albert')\n",
      "('Adam', 'Wes', 'Albert', 'Steven')\n",
      "('Adam', 'Wes', 'Steven', 'Steven')\n",
      "('Adam', 'Will', 'Will', 'Will')\n",
      "('Adam', 'Will', 'Will', 'Albert')\n",
      "('Adam', 'Will', 'Will', 'Steven')\n",
      "('Adam', 'Will', 'Albert', 'Albert')\n",
      "('Adam', 'Will', 'Albert', 'Steven')\n",
      "('Adam', 'Will', 'Steven', 'Steven')\n",
      "('Adam', 'Albert', 'Albert', 'Albert')\n",
      "('Adam', 'Albert', 'Albert', 'Steven')\n",
      "('Adam', 'Albert', 'Steven', 'Steven')\n",
      "('Adam', 'Steven', 'Steven', 'Steven')\n",
      "('Wes', 'Wes', 'Wes', 'Wes')\n",
      "('Wes', 'Wes', 'Wes', 'Will')\n",
      "('Wes', 'Wes', 'Wes', 'Albert')\n",
      "('Wes', 'Wes', 'Wes', 'Steven')\n",
      "('Wes', 'Wes', 'Will', 'Will')\n",
      "('Wes', 'Wes', 'Will', 'Albert')\n",
      "('Wes', 'Wes', 'Will', 'Steven')\n",
      "('Wes', 'Wes', 'Albert', 'Albert')\n",
      "('Wes', 'Wes', 'Albert', 'Steven')\n",
      "('Wes', 'Wes', 'Steven', 'Steven')\n",
      "('Wes', 'Will', 'Will', 'Will')\n",
      "('Wes', 'Will', 'Will', 'Albert')\n",
      "('Wes', 'Will', 'Will', 'Steven')\n",
      "('Wes', 'Will', 'Albert', 'Albert')\n",
      "('Wes', 'Will', 'Albert', 'Steven')\n",
      "('Wes', 'Will', 'Steven', 'Steven')\n",
      "('Wes', 'Albert', 'Albert', 'Albert')\n",
      "('Wes', 'Albert', 'Albert', 'Steven')\n",
      "('Wes', 'Albert', 'Steven', 'Steven')\n",
      "('Wes', 'Steven', 'Steven', 'Steven')\n",
      "('Will', 'Will', 'Will', 'Will')\n",
      "('Will', 'Will', 'Will', 'Albert')\n",
      "('Will', 'Will', 'Will', 'Steven')\n",
      "('Will', 'Will', 'Albert', 'Albert')\n",
      "('Will', 'Will', 'Albert', 'Steven')\n",
      "('Will', 'Will', 'Steven', 'Steven')\n",
      "('Will', 'Albert', 'Albert', 'Albert')\n",
      "('Will', 'Albert', 'Albert', 'Steven')\n",
      "('Will', 'Albert', 'Steven', 'Steven')\n",
      "('Will', 'Steven', 'Steven', 'Steven')\n",
      "('Albert', 'Albert', 'Albert', 'Albert')\n",
      "('Albert', 'Albert', 'Albert', 'Steven')\n",
      "('Albert', 'Albert', 'Steven', 'Steven')\n",
      "('Albert', 'Steven', 'Steven', 'Steven')\n",
      "('Steven', 'Steven', 'Steven', 'Steven')\n"
     ]
    }
   ],
   "source": [
    "import itertools as it\n",
    "\n",
    "names = ['Alan', 'Adam', 'Wes', 'Will', 'Albert', 'Steven']\n",
    "\n",
    "first_letter = lambda x: x[0]\n",
    "\n",
    "for letter, names in itertools.groupby(names, first_letter):\n",
    "    print(letter, list(names))\n",
    "    \n",
    "names = ['Alan', 'Adam', 'Wes', 'Will', 'Albert', 'Steven']\n",
    "for i in itertools.combinations_with_replacement(names, 4):\n",
    "    print(i)"
   ]
  },
  {
   "cell_type": "markdown",
   "metadata": {},
   "source": [
    "## Error handling in python"
   ]
  },
  {
   "cell_type": "code",
   "execution_count": 107,
   "metadata": {},
   "outputs": [
    {
     "name": "stdout",
     "output_type": "stream",
     "text": [
      "Error Handling Done!\n",
      "Error Handling Done!\n",
      "Failed\n"
     ]
    },
    {
     "ename": "NameError",
     "evalue": "name 'f' is not defined",
     "output_type": "error",
     "traceback": [
      "\u001b[0;31m---------------------------------------------------------------------------\u001b[0m",
      "\u001b[0;31mNameError\u001b[0m                                 Traceback (most recent call last)",
      "\u001b[0;32m<ipython-input-107-40e9db849010>\u001b[0m in \u001b[0;36m<module>\u001b[0;34m\u001b[0m\n\u001b[1;32m     18\u001b[0m     \u001b[0mprint\u001b[0m\u001b[0;34m(\u001b[0m\u001b[0;34m'Succeeded'\u001b[0m\u001b[0;34m)\u001b[0m\u001b[0;34m\u001b[0m\u001b[0;34m\u001b[0m\u001b[0m\n\u001b[1;32m     19\u001b[0m \u001b[0;32mfinally\u001b[0m\u001b[0;34m:\u001b[0m\u001b[0;34m\u001b[0m\u001b[0;34m\u001b[0m\u001b[0m\n\u001b[0;32m---> 20\u001b[0;31m     \u001b[0mf\u001b[0m\u001b[0;34m.\u001b[0m\u001b[0mclose\u001b[0m\u001b[0;34m(\u001b[0m\u001b[0;34m)\u001b[0m\u001b[0;34m\u001b[0m\u001b[0;34m\u001b[0m\u001b[0m\n\u001b[0m",
      "\u001b[0;31mNameError\u001b[0m: name 'f' is not defined"
     ]
    }
   ],
   "source": [
    "def float_value(temp_string):\n",
    "    try:\n",
    "        return float(temp_string)\n",
    "    except(TypeError, ValueError):\n",
    "        return temp_string\n",
    "    finally:\n",
    "        print('Error Handling Done!')\n",
    "\n",
    "float_value('1.2'), float_value('error')\n",
    "\n",
    "\n",
    "try:\n",
    "    f = open(path, 'w')\n",
    "    write_to_file(f)\n",
    "except:\n",
    "    print('Failed')\n",
    "else:\n",
    "    print('Succeeded')\n",
    "finally:\n",
    "    f.close()"
   ]
  },
  {
   "cell_type": "markdown",
   "metadata": {},
   "source": [
    "## File"
   ]
  },
  {
   "cell_type": "markdown",
   "metadata": {},
   "source": [
    "### different modes on openning files:\n"
   ]
  },
  {
   "cell_type": "markdown",
   "metadata": {},
   "source": [
    "<img src='./table1.jpg' align=\"centre\">"
   ]
  },
  {
   "cell_type": "markdown",
   "metadata": {},
   "source": [
    " "
   ]
  },
  {
   "cell_type": "code",
   "execution_count": 108,
   "metadata": {},
   "outputs": [],
   "source": [
    "f = open('test1.txt','w+')\n",
    "my_string = \"Sueña el rico en su riqueza ue más cuidados le ofrece sueña el pobre que padece su miseria \\n y su pobreza; sueña el que a medrar empieza sueña el que afana y pretendesueña el que agravia \\n y ofendey en el mundo en conclusióntodos sueñan lo que sonaunque ninguno lo entiende.\"\n",
    "f.write(my_string)\n",
    "f.close()"
   ]
  },
  {
   "cell_type": "code",
   "execution_count": 109,
   "metadata": {},
   "outputs": [
    {
     "data": {
      "text/plain": [
       "'Sueña el rico en su riqueza ue más cuidados le ofrece sueña el pobre que padece su miseria \\n y su pobreza; sueña el que a medrar empieza sueña el que afana y pretendesueña el que agravia \\n y ofendey en el mundo en conclusióntodos sueñan lo que sonaunque ninguno lo entiende.'"
      ]
     },
     "execution_count": 109,
     "metadata": {},
     "output_type": "execute_result"
    }
   ],
   "source": [
    "f = open('test1.txt', 'r')\n",
    "line = f.read()\n",
    "line\n"
   ]
  },
  {
   "cell_type": "code",
   "execution_count": 110,
   "metadata": {},
   "outputs": [
    {
     "data": {
      "text/plain": [
       "282"
      ]
     },
     "execution_count": 110,
     "metadata": {},
     "output_type": "execute_result"
    }
   ],
   "source": [
    "f = open('test1.txt','r+')\n",
    "my_string = \"Sueña el rico en su riqueza ue más cuidados le ofrece sueña el pobre que padece su miseria \\n y su pobreza; sueña el que a medrar empieza sueña el que afana y pretendesueña el que agravia \\n y ofendey en el mundo en conclusióntodos sueñan lo que sonaunque ninguno lo entiende.\"\n",
    "f.write(my_string)\n",
    "f.tell()"
   ]
  },
  {
   "cell_type": "code",
   "execution_count": 111,
   "metadata": {},
   "outputs": [
    {
     "data": {
      "text/plain": [
       "'a el rico '"
      ]
     },
     "execution_count": 111,
     "metadata": {},
     "output_type": "execute_result"
    }
   ],
   "source": [
    "f.seek(5) #puts the header on the fifth Character\n",
    "f.read(10) #reads 10 Character"
   ]
  },
  {
   "cell_type": "code",
   "execution_count": 112,
   "metadata": {},
   "outputs": [],
   "source": [
    "f.close()"
   ]
  },
  {
   "cell_type": "markdown",
   "metadata": {},
   "source": [
    "Automatically close files using **With** keyword"
   ]
  },
  {
   "cell_type": "code",
   "execution_count": 170,
   "metadata": {},
   "outputs": [
    {
     "name": "stdout",
     "output_type": "stream",
     "text": [
      "Sueña el rico en su riqueza ue más cuidados le ofrece sueña el pobre que padece su miseria \n",
      "\n",
      " y su pobreza; sueña el que\n"
     ]
    }
   ],
   "source": [
    "with open('test1.txt') as f:\n",
    "    print(f.read(120))"
   ]
  },
  {
   "cell_type": "markdown",
   "metadata": {},
   "source": [
    "##### Binary mode"
   ]
  },
  {
   "cell_type": "code",
   "execution_count": 114,
   "metadata": {},
   "outputs": [
    {
     "name": "stdout",
     "output_type": "stream",
     "text": [
      "b'Sue\\xc3\\xb1a el '\n"
     ]
    }
   ],
   "source": [
    "f = open('test1.txt', 'rb')\n",
    "\n",
    "data = f.read(10) # Read files for 10 Bytes\n",
    "print(data) # a UNICODE data, utf-8\n",
    "f.close()"
   ]
  },
  {
   "cell_type": "markdown",
   "metadata": {},
   "source": [
    "you can **decode and encode** data from and to **utf-8**"
   ]
  },
  {
   "cell_type": "code",
   "execution_count": 115,
   "metadata": {},
   "outputs": [
    {
     "data": {
      "text/plain": [
       "'Sueña el '"
      ]
     },
     "execution_count": 115,
     "metadata": {},
     "output_type": "execute_result"
    }
   ],
   "source": [
    "temp = data.decode()\n",
    "temp"
   ]
  },
  {
   "cell_type": "code",
   "execution_count": 116,
   "metadata": {},
   "outputs": [
    {
     "data": {
      "text/plain": [
       "b'Sue\\xc3\\xb1a el '"
      ]
     },
     "execution_count": 116,
     "metadata": {},
     "output_type": "execute_result"
    }
   ],
   "source": [
    "temp.encode(encoding = 'utf-8')"
   ]
  },
  {
   "cell_type": "markdown",
   "metadata": {},
   "source": [
    "#### Convert unicode modes"
   ]
  },
  {
   "cell_type": "code",
   "execution_count": 190,
   "metadata": {},
   "outputs": [],
   "source": [
    "with open('test1.txt') as f:\n",
    "    with open('next-unicode.txt', 'xt', encoding='iso-8859-1') as f2:\n",
    "        f2.write(f.read())"
   ]
  },
  {
   "cell_type": "code",
   "execution_count": 195,
   "metadata": {},
   "outputs": [
    {
     "ename": "UnicodeDecodeError",
     "evalue": "'utf-8' codec can't decode byte 0xf1 in position 3: invalid continuation byte",
     "output_type": "error",
     "traceback": [
      "\u001b[0;31m---------------------------------------------------------------------------\u001b[0m",
      "\u001b[0;31mUnicodeDecodeError\u001b[0m                        Traceback (most recent call last)",
      "\u001b[0;32m<ipython-input-195-ba14ef2be37a>\u001b[0m in \u001b[0;36m<module>\u001b[0;34m\u001b[0m\n\u001b[1;32m      1\u001b[0m \u001b[0mf2\u001b[0m \u001b[0;34m=\u001b[0m \u001b[0mopen\u001b[0m\u001b[0;34m(\u001b[0m\u001b[0;34m'next-unicode.txt'\u001b[0m\u001b[0;34m,\u001b[0m \u001b[0;34m'r+'\u001b[0m\u001b[0;34m)\u001b[0m\u001b[0;34m\u001b[0m\u001b[0;34m\u001b[0m\u001b[0m\n\u001b[0;32m----> 2\u001b[0;31m \u001b[0mf2\u001b[0m\u001b[0;34m.\u001b[0m\u001b[0mread\u001b[0m\u001b[0;34m(\u001b[0m\u001b[0;34m)\u001b[0m\u001b[0;34m\u001b[0m\u001b[0;34m\u001b[0m\u001b[0m\n\u001b[0m",
      "\u001b[0;32m~/anaconda3/lib/python3.7/codecs.py\u001b[0m in \u001b[0;36mdecode\u001b[0;34m(self, input, final)\u001b[0m\n\u001b[1;32m    320\u001b[0m         \u001b[0;31m# decode input (taking the buffer into account)\u001b[0m\u001b[0;34m\u001b[0m\u001b[0;34m\u001b[0m\u001b[0;34m\u001b[0m\u001b[0m\n\u001b[1;32m    321\u001b[0m         \u001b[0mdata\u001b[0m \u001b[0;34m=\u001b[0m \u001b[0mself\u001b[0m\u001b[0;34m.\u001b[0m\u001b[0mbuffer\u001b[0m \u001b[0;34m+\u001b[0m \u001b[0minput\u001b[0m\u001b[0;34m\u001b[0m\u001b[0;34m\u001b[0m\u001b[0m\n\u001b[0;32m--> 322\u001b[0;31m         \u001b[0;34m(\u001b[0m\u001b[0mresult\u001b[0m\u001b[0;34m,\u001b[0m \u001b[0mconsumed\u001b[0m\u001b[0;34m)\u001b[0m \u001b[0;34m=\u001b[0m \u001b[0mself\u001b[0m\u001b[0;34m.\u001b[0m\u001b[0m_buffer_decode\u001b[0m\u001b[0;34m(\u001b[0m\u001b[0mdata\u001b[0m\u001b[0;34m,\u001b[0m \u001b[0mself\u001b[0m\u001b[0;34m.\u001b[0m\u001b[0merrors\u001b[0m\u001b[0;34m,\u001b[0m \u001b[0mfinal\u001b[0m\u001b[0;34m)\u001b[0m\u001b[0;34m\u001b[0m\u001b[0;34m\u001b[0m\u001b[0m\n\u001b[0m\u001b[1;32m    323\u001b[0m         \u001b[0;31m# keep undecoded input until the next call\u001b[0m\u001b[0;34m\u001b[0m\u001b[0;34m\u001b[0m\u001b[0;34m\u001b[0m\u001b[0m\n\u001b[1;32m    324\u001b[0m         \u001b[0mself\u001b[0m\u001b[0;34m.\u001b[0m\u001b[0mbuffer\u001b[0m \u001b[0;34m=\u001b[0m \u001b[0mdata\u001b[0m\u001b[0;34m[\u001b[0m\u001b[0mconsumed\u001b[0m\u001b[0;34m:\u001b[0m\u001b[0;34m]\u001b[0m\u001b[0;34m\u001b[0m\u001b[0;34m\u001b[0m\u001b[0m\n",
      "\u001b[0;31mUnicodeDecodeError\u001b[0m: 'utf-8' codec can't decode byte 0xf1 in position 3: invalid continuation byte"
     ]
    }
   ],
   "source": [
    "f2 = open('next-unicode.txt', 'r+')\n",
    "f2.read()"
   ]
  },
  {
   "cell_type": "markdown",
   "metadata": {},
   "source": [
    "***^*** the file could not be read using utf-8"
   ]
  },
  {
   "cell_type": "markdown",
   "metadata": {},
   "source": [
    "##### Some common methods of file reading in python"
   ]
  },
  {
   "cell_type": "markdown",
   "metadata": {},
   "source": [
    "<img src='table2.jpg'>"
   ]
  },
  {
   "cell_type": "markdown",
   "metadata": {},
   "source": [
    "<img src=\"table2-2.jpg\">"
   ]
  },
  {
   "cell_type": "markdown",
   "metadata": {},
   "source": [
    "### Chapter 3, finished!"
   ]
  }
 ],
 "metadata": {
  "kernelspec": {
   "display_name": "Python 3",
   "language": "python",
   "name": "python3"
  },
  "language_info": {
   "codemirror_mode": {
    "name": "ipython",
    "version": 3
   },
   "file_extension": ".py",
   "mimetype": "text/x-python",
   "name": "python",
   "nbconvert_exporter": "python",
   "pygments_lexer": "ipython3",
   "version": "3.7.3"
  }
 },
 "nbformat": 4,
 "nbformat_minor": 2
}
