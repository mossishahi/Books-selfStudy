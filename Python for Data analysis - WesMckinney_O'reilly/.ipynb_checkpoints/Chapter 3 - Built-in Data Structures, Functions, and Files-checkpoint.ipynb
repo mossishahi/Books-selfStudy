{
 "cells": [
  {
   "cell_type": "markdown",
   "metadata": {},
   "source": [
    "## Tuple"
   ]
  },
  {
   "cell_type": "code",
   "execution_count": 39,
   "metadata": {},
   "outputs": [
    {
     "name": "stdout",
     "output_type": "stream",
     "text": [
      "type of T3: <class 'list'>\n",
      "type of T4: <class 'tuple'>\n",
      "(6, 7) <class 'tuple'> 5 <class 'int'>\n",
      "a=1, b=2, c=3\n",
      "a=4, b=5, c=6\n",
      "a=7, b=8, c=9\n"
     ]
    },
    {
     "data": {
      "text/plain": [
       "([(6, 7), 0, 0], list, (6, 7), tuple)"
      ]
     },
     "execution_count": 39,
     "metadata": {},
     "output_type": "execute_result"
    }
   ],
   "source": [
    "#can be made of any sequence type, list or String, etc.\n",
    "t1 = (1, 2, 3, 6, 7)\n",
    "\n",
    "list_l = [1, 2, 3, 6, 7]\n",
    "t2 = tuple(list_l)\n",
    "\n",
    "#Lists and Tuples inside each other:\n",
    "list_l2 = [[1, 2], 3, 6, 7]\n",
    "t3 = tuple(list_l2)\n",
    "print(\"type of T3:\", type(t3[0]))\n",
    "t4 = [(1,2), (3,4), (5,6)]\n",
    "print(\"type of T4:\", type(t4[0]))\n",
    "\n",
    "#divide a tuple to its items\n",
    "tup = (4, 5, (6, 7), 0, 0)\n",
    "a, b, c, d, e = tup\n",
    "print(c, type(c), b, type(b))\n",
    "\n",
    "### accessing tuple items \n",
    "temp_tuple = [(1, 2, 3), (4, 5, 6), (7, 8, 9)]\n",
    "for a, b, c in temp_tuple:\n",
    "    print('a={0}, b={1}, c={2}'.format(a, b, c))\n",
    "\n",
    "#discard the REST of values\n",
    "t, f, *rest = tup  #in the same way you can write: d, *_ = tup \n",
    "\n",
    "rest, type(rest), rest[0], type(rest[0])"
   ]
  },
  {
   "cell_type": "markdown",
   "metadata": {},
   "source": [
    "### Tuple's functions - only one function"
   ]
  },
  {
   "cell_type": "code",
   "execution_count": 40,
   "metadata": {},
   "outputs": [
    {
     "data": {
      "text/plain": [
       "2"
      ]
     },
     "execution_count": 40,
     "metadata": {},
     "output_type": "execute_result"
    }
   ],
   "source": [
    "tup.count(0)"
   ]
  },
  {
   "cell_type": "markdown",
   "metadata": {},
   "source": [
    "## List"
   ]
  },
  {
   "cell_type": "code",
   "execution_count": 43,
   "metadata": {},
   "outputs": [
    {
     "data": {
      "text/plain": [
       "(list, tuple)"
      ]
     },
     "execution_count": 43,
     "metadata": {},
     "output_type": "execute_result"
    }
   ],
   "source": [
    "a = [1,2,3,4,5,6] #List\n",
    "t = (1,2,3,4,5,6) #Tuple\n",
    "\n",
    "t_list = list(t)\n",
    "t_list\n",
    "\n",
    "a_tuple = tuple(a)\n",
    "a_tuple\n",
    "\n",
    "type(a), type(a_tuple)"
   ]
  },
  {
   "cell_type": "code",
   "execution_count": 41,
   "metadata": {},
   "outputs": [
    {
     "data": {
      "text/plain": [
       "[1, 2, 3, 4, 5, 6, 6.5]"
      ]
     },
     "execution_count": 41,
     "metadata": {},
     "output_type": "execute_result"
    }
   ],
   "source": [
    "a.insert(6, 6.5) #inPlace\n",
    "a"
   ]
  },
  {
   "cell_type": "code",
   "execution_count": 42,
   "metadata": {},
   "outputs": [],
   "source": [
    "a.append(7) #Append is Computationally more efficient than insert, because insert should SHIFT ALL elements in memory\n",
    "a"
   ]
  },
  {
   "cell_type": "markdown",
   "metadata": {},
   "source": [
    "#### pop, and remove function"
   ]
  },
  {
   "cell_type": "code",
   "execution_count": 75,
   "metadata": {},
   "outputs": [
    {
     "data": {
      "text/plain": [
       "'baz'"
      ]
     },
     "execution_count": 75,
     "metadata": {},
     "output_type": "execute_result"
    }
   ],
   "source": [
    "string_list = ['foo', 'red', 'peekaboo', 'baz', 'dwarf']\n",
    "string_list.pop(-2) #inplace"
   ]
  },
  {
   "cell_type": "code",
   "execution_count": 76,
   "metadata": {},
   "outputs": [
    {
     "data": {
      "text/plain": [
       "['foo', 'red', 'peekaboo', 'dwarf']"
      ]
     },
     "execution_count": 76,
     "metadata": {},
     "output_type": "execute_result"
    }
   ],
   "source": [
    "string_list"
   ]
  },
  {
   "cell_type": "code",
   "execution_count": 77,
   "metadata": {},
   "outputs": [
    {
     "data": {
      "text/plain": [
       "'dwarf'"
      ]
     },
     "execution_count": 77,
     "metadata": {},
     "output_type": "execute_result"
    }
   ],
   "source": [
    "string_list.pop() #The last item"
   ]
  },
  {
   "cell_type": "markdown",
   "metadata": {},
   "source": [
    "#### Extend and shorten lists"
   ]
  },
  {
   "cell_type": "code",
   "execution_count": 68,
   "metadata": {},
   "outputs": [
    {
     "name": "stdout",
     "output_type": "stream",
     "text": [
      "['foo', 'peekaboo', 'baz', 'dwarf']\n",
      "['foo', 'peekaboo', 'baz', 'dwarf', 'Ali', 'Mohammad', ('ali', 'mohammad'), 'Ex1', 'Ex2', 'Ex3', 'Ex4', 'Ex5']\n",
      "\n",
      "\n",
      "['foo', 'peekaboo', 'baz', 'dwarf', 'Ali', 'Mohammad', ('ali', 'mohammad'), 'Ex1', 'Ex2', 'Ex3', 'Ex4', 'Ex5', 'E', 'x', '1', 'E', 'x', '2', 'E', 'x', '3', 'E', 'x', '4', 'E', 'x', '5']\n",
      "\n",
      "\n",
      "['foo', 'peekaboo', 'baz', 'dwarf', 'Ali', 'Mohammad', ('ali', 'mohammad'), 'Ex1', 'Ex2', 'Ex3', 'Ex4', 'Ex5', 'E', 'x', '1', 'E', 'x', '2', 'E', 'x', '3', 'E', 'x', '4', 'E', 'x', '5', 'E', 'x', '1', 'E', 'x', '2', 'E', 'x', '3', 'E', 'x', '4', 'E', 'x', '5']\n"
     ]
    }
   ],
   "source": [
    "string_list = ['foo', 'red', 'peekaboo', 'baz', 'dwarf']\n",
    "\n",
    "#remove method\n",
    "string_list.remove('red')\n",
    "print(string_list)\n",
    "\n",
    "# += operator\n",
    "string_list += ['Ali', 'Mohammad', ('ali', 'mohammad')]\n",
    "string_list\n",
    "type(string_list[6])\n",
    "\n",
    "#--------------------------------------------\n",
    "extension1 = ['Ex1']\n",
    "extension2 = ['Ex2']\n",
    "extension3 = ['Ex3']\n",
    "extension4 = ['Ex4']\n",
    "extension5 = ['Ex5']\n",
    "extension6 = ['Ex6']\n",
    "extensions = []\n",
    "for i in range(1, 6):\n",
    "    extensions.extend(eval('extension'+str(i)))\n",
    "#----------------------------------------------\n",
    "for extension in extensions:\n",
    "    string_list.append(extension)\n",
    "print(string_list)\n",
    "print('\\n') \n",
    "\n",
    "#The difference between append and extend facing the strings\n",
    "# APPEND gets an item, yet the EXTEND method gets a list\n",
    "for extension in extensions:\n",
    "    string_list.extend(extension)\n",
    "print(string_list)\n",
    "print('\\n')\n",
    "\n",
    "# (+= acts like extend method)\n",
    "for extension in extensions:\n",
    "    string_list += extension\n",
    "print(string_list)"
   ]
  },
  {
   "cell_type": "markdown",
   "metadata": {},
   "source": [
    "### sort list"
   ]
  },
  {
   "cell_type": "code",
   "execution_count": 139,
   "metadata": {},
   "outputs": [
    {
     "name": "stdout",
     "output_type": "stream",
     "text": [
      "['foo', 'red', 'peekaboo', 'baz', 'dwarf']\n"
     ]
    },
    {
     "data": {
      "text/plain": [
       "['baz', 'dwarf', 'foo', 'peekaboo', 'red']"
      ]
     },
     "execution_count": 139,
     "metadata": {},
     "output_type": "execute_result"
    }
   ],
   "source": [
    "string_list = ['foo', 'red', 'peekaboo', 'baz', 'dwarf']\n",
    "print(string_list) \n",
    "string_list.sort() # inplace\n",
    "string_list"
   ]
  },
  {
   "cell_type": "code",
   "execution_count": 79,
   "metadata": {},
   "outputs": [
    {
     "data": {
      "text/plain": [
       "['baz', 'dwarf', 'foo', 'peekaboo', 'red']"
      ]
     },
     "execution_count": 79,
     "metadata": {},
     "output_type": "execute_result"
    }
   ],
   "source": [
    "sorted(string_list)"
   ]
  },
  {
   "cell_type": "code",
   "execution_count": 84,
   "metadata": {},
   "outputs": [],
   "source": [
    "numbers_list = [(2,4), (3,6), (2, 4), (6,7), (-1, -8)]\n",
    "\n",
    "def comparator(tuple):\n",
    "    return tuple[0]*tuple[1]\n",
    "\n",
    "numbers_list.sort(key=comparator)"
   ]
  },
  {
   "cell_type": "code",
   "execution_count": 85,
   "metadata": {},
   "outputs": [
    {
     "data": {
      "text/plain": [
       "[(2, 4), (2, 4), (-1, -8), (3, 6), (6, 7)]"
      ]
     },
     "execution_count": 85,
     "metadata": {},
     "output_type": "execute_result"
    }
   ],
   "source": [
    "numbers_list"
   ]
  },
  {
   "cell_type": "markdown",
   "metadata": {},
   "source": [
    "#### Binary search for sorting - BISECT"
   ]
  },
  {
   "cell_type": "code",
   "execution_count": 105,
   "metadata": {},
   "outputs": [
    {
     "name": "stdout",
     "output_type": "stream",
     "text": [
      "5 5 4\n"
     ]
    }
   ],
   "source": [
    "import bisect\n",
    "c = [1, 2, 2, 2, 3, 4, 7]\n",
    "\n",
    "#What is the difference of three methods of bisect:\n",
    "# if you want to insert or get the index of an item and a same value already exists in the List\n",
    "# bisect_right and bisect methods put the new item at the right of existing item\n",
    "# bisect_left puts the new item at the left side of existing item \n",
    "\n",
    "print(bisect.bisect_right(c, 3), bisect.bisect(c, 3), bisect.bisect_left(c, 3))"
   ]
  },
  {
   "cell_type": "code",
   "execution_count": 108,
   "metadata": {},
   "outputs": [
    {
     "data": {
      "text/plain": [
       "[1, 2, 2, 2, 3, 3, 3, 3, 4, 7]"
      ]
     },
     "execution_count": 108,
     "metadata": {},
     "output_type": "execute_result"
    }
   ],
   "source": [
    "# insort Bisect\n",
    "\n",
    "bisect.insort(c, 3)\n",
    "c"
   ]
  },
  {
   "cell_type": "markdown",
   "metadata": {},
   "source": [
    "#### Slicing"
   ]
  },
  {
   "cell_type": "code",
   "execution_count": 140,
   "metadata": {},
   "outputs": [
    {
     "name": "stdout",
     "output_type": "stream",
     "text": [
      "[1, 2, -99, 2, 3, 3, 3, 3, 4, 7]\n",
      "[1, -99, 3, 3, 4] [1, -99, 3, 3, 4]\n",
      "[7, 4, 3, 3, 3, 3, 2, -99, 2, 1]\n"
     ]
    }
   ],
   "source": [
    "c[2:3] = [-99]\n",
    "print(c)\n",
    "type(c[2:3]) #it is not a number, however it is an individual \n",
    "c[-3:-1]    #index of arrays => to the end:[-(size of array), ...... , -3, -2, -1], from the first element: [0, 1, 2, 3, ....]\n",
    "print(c[::2], c[0:-1: 2]) #from start to end, Step :2\n",
    "print(c[::-1]) # a technique to Reverse the List "
   ]
  },
  {
   "cell_type": "markdown",
   "metadata": {},
   "source": [
    "## Enumerate"
   ]
  },
  {
   "cell_type": "code",
   "execution_count": 141,
   "metadata": {},
   "outputs": [
    {
     "data": {
      "text/plain": [
       "{0: 'baz', 1: 'dwarf', 2: 'foo', 3: 'peekaboo', 4: 'red'}"
      ]
     },
     "execution_count": 141,
     "metadata": {},
     "output_type": "execute_result"
    }
   ],
   "source": [
    "map = {}\n",
    "for i, string in enumerate(string_list):\n",
    "    map[i] = string\n",
    "map"
   ]
  },
  {
   "cell_type": "markdown",
   "metadata": {},
   "source": [
    "## Zip"
   ]
  },
  {
   "cell_type": "code",
   "execution_count": 163,
   "metadata": {},
   "outputs": [
    {
     "name": "stdout",
     "output_type": "stream",
     "text": [
      "<zip object at 0x7f67fc6e4ac8>\n"
     ]
    }
   ],
   "source": [
    "numerical = [1, 2, 3, 4]\n",
    "English = ['one', 'two', 'three']\n",
    "Persian = ['Yek', 'Do', 'Se']\n",
    "\n",
    "pairs = zip(numerical, English, Persian)\n",
    "print(pairs)\n"
   ]
  },
  {
   "cell_type": "code",
   "execution_count": 168,
   "metadata": {},
   "outputs": [],
   "source": [
    "for i, (a, b, c) in enumerate(pairs):\n",
    "    print(\"numerical value: {0}, \\n English word: {1}, \\n Persian word: {2}\".format(a, b, c))"
   ]
  },
  {
   "cell_type": "markdown",
   "metadata": {},
   "source": [
    "### Reversed"
   ]
  },
  {
   "cell_type": "code",
   "execution_count": 176,
   "metadata": {},
   "outputs": [
    {
     "data": {
      "text/plain": [
       "[9, 8, 7, 6, 5, 4, 3, 2, 1]"
      ]
     },
     "execution_count": 176,
     "metadata": {},
     "output_type": "execute_result"
    }
   ],
   "source": [
    "rv = list(reversed(range(1, 10)))\n",
    "rv"
   ]
  },
  {
   "cell_type": "markdown",
   "metadata": {},
   "source": [
    "# Dict"
   ]
  },
  {
   "cell_type": "code",
   "execution_count": 132,
   "metadata": {
    "collapsed": true
   },
   "outputs": [
    {
     "data": {
      "text/plain": [
       "{0: 0,\n",
       " 1: 1,\n",
       " 2: 4,\n",
       " 3: 9,\n",
       " 4: 16,\n",
       " 5: 25,\n",
       " 6: 36,\n",
       " 7: 49,\n",
       " 8: 64,\n",
       " 9: 81,\n",
       " 10: 100,\n",
       " 11: 121,\n",
       " 12: 144,\n",
       " 13: 169,\n",
       " 14: 196,\n",
       " 15: 225,\n",
       " 16: 256,\n",
       " 17: 289,\n",
       " 18: 324,\n",
       " 19: 361,\n",
       " 20: 400,\n",
       " 21: 441,\n",
       " 22: 484,\n",
       " 23: 529,\n",
       " 24: 576,\n",
       " 25: 625,\n",
       " 26: 676,\n",
       " 27: 729,\n",
       " 28: 784,\n",
       " 29: 841,\n",
       " 30: 900,\n",
       " 31: 961,\n",
       " 32: 1024,\n",
       " 33: 1089,\n",
       " 34: 1156,\n",
       " 35: 1225,\n",
       " 36: 1296,\n",
       " 37: 1369,\n",
       " 38: 1444,\n",
       " 39: 1521,\n",
       " 40: 1600,\n",
       " 41: 1681,\n",
       " 42: 1764,\n",
       " 43: 1849,\n",
       " 44: 1936,\n",
       " 45: 2025,\n",
       " 46: 2116,\n",
       " 47: 2209,\n",
       " 48: 2304,\n",
       " 49: 2401,\n",
       " 50: 2500,\n",
       " 51: 2601,\n",
       " 52: 2704,\n",
       " 53: 2809,\n",
       " 54: 2916,\n",
       " 55: 3025,\n",
       " 56: 3136,\n",
       " 57: 3249,\n",
       " 58: 3364,\n",
       " 59: 3481,\n",
       " 60: 3600,\n",
       " 61: 3721,\n",
       " 62: 3844,\n",
       " 63: 3969,\n",
       " 64: 4096,\n",
       " 65: 4225,\n",
       " 66: 4356,\n",
       " 67: 4489,\n",
       " 68: 4624,\n",
       " 69: 4761,\n",
       " 70: 4900,\n",
       " 71: 5041,\n",
       " 72: 5184,\n",
       " 73: 5329,\n",
       " 74: 5476,\n",
       " 75: 5625,\n",
       " 76: 5776,\n",
       " 77: 5929,\n",
       " 78: 6084,\n",
       " 79: 6241,\n",
       " 80: 6400,\n",
       " 81: 6561,\n",
       " 82: 6724,\n",
       " 83: 6889,\n",
       " 84: 7056,\n",
       " 85: 7225,\n",
       " 86: 7396,\n",
       " 87: 7569,\n",
       " 88: 7744,\n",
       " 89: 7921,\n",
       " 90: 8100,\n",
       " 91: 8281,\n",
       " 92: 8464,\n",
       " 93: 8649,\n",
       " 94: 8836,\n",
       " 95: 9025,\n",
       " 96: 9216,\n",
       " 97: 9409,\n",
       " 98: 9604,\n",
       " 99: 9801}"
      ]
     },
     "execution_count": 132,
     "metadata": {},
     "output_type": "execute_result"
    }
   ],
   "source": [
    "my_dict = {'a' : 'some value', 'b' : [1, 2, 3, 4]} #keys should be immutable\n",
    "my_dict['c'] = True\n",
    "my_dict['b']\n",
    "\n",
    "#make dicts Comprehension\n",
    "dict((i,i**2) for i in range(100))"
   ]
  },
  {
   "cell_type": "code",
   "execution_count": 186,
   "metadata": {},
   "outputs": [
    {
     "data": {
      "text/plain": [
       "(False, True)"
      ]
     },
     "execution_count": 186,
     "metadata": {},
     "output_type": "execute_result"
    }
   ],
   "source": [
    "'some value' in my_dict, 'a' in my_dict"
   ]
  },
  {
   "cell_type": "code",
   "execution_count": 190,
   "metadata": {},
   "outputs": [
    {
     "data": {
      "text/plain": [
       "(dict_keys(['a', 'b', 'c']), dict_values(['some value', [1, 2, 3, 4], True]))"
      ]
     },
     "execution_count": 190,
     "metadata": {},
     "output_type": "execute_result"
    }
   ],
   "source": [
    "my_dict.keys(), my_dict.values()"
   ]
  },
  {
   "cell_type": "code",
   "execution_count": 192,
   "metadata": {},
   "outputs": [
    {
     "data": {
      "text/plain": [
       "dict_items([('a', 'some value'), ('b', [1, 2, 3, 4]), ('c', True)])"
      ]
     },
     "execution_count": 192,
     "metadata": {},
     "output_type": "execute_result"
    }
   ],
   "source": [
    "my_dict.items()"
   ]
  },
  {
   "cell_type": "markdown",
   "metadata": {},
   "source": [
    "#### access the key of a value"
   ]
  },
  {
   "cell_type": "code",
   "execution_count": 202,
   "metadata": {},
   "outputs": [
    {
     "name": "stdout",
     "output_type": "stream",
     "text": [
      "a\n",
      "a\n"
     ]
    }
   ],
   "source": [
    "# way 1: convert values to List and access their index\n",
    "print(list(my_dict.keys())[list(my_dict.values()).index('some value')])\n",
    "\n",
    "# way 2: \n",
    "print(next(key for key, value in my_dict.items() if value == 'some value'))"
   ]
  },
  {
   "cell_type": "markdown",
   "metadata": {},
   "source": [
    "### merge two dicts"
   ]
  },
  {
   "cell_type": "code",
   "execution_count": 217,
   "metadata": {},
   "outputs": [
    {
     "data": {
      "text/plain": [
       "{'Ali': 'Sara', 'Mani': 'Mahi', 'Akbar': 'Kobra', 'Asghar': 'Soghra'}"
      ]
     },
     "execution_count": 217,
     "metadata": {},
     "output_type": "execute_result"
    }
   ],
   "source": [
    "Tehran = {'Ali':'Sara', 'Mani':'Mahi'}\n",
    "Yazd = {'Akbar':'Kobra', 'Asghar':'Soghra'}\n",
    "\n",
    "partners = {}\n",
    "partners.update(Tehran) #in-place changes\n",
    "partners.update(Yazd)\n",
    "\n",
    "partners"
   ]
  },
  {
   "cell_type": "code",
   "execution_count": 218,
   "metadata": {},
   "outputs": [
    {
     "data": {
      "text/plain": [
       "{'Ali': 'Sara', 'Akbar': 'Kobra'}"
      ]
     },
     "execution_count": 218,
     "metadata": {},
     "output_type": "execute_result"
    }
   ],
   "source": [
    "partners.pop('Asghar')\n",
    "del(partners['Mani'])\n",
    "\n",
    "partners\n"
   ]
  },
  {
   "cell_type": "markdown",
   "metadata": {},
   "source": [
    "#### Set Default value for keys:"
   ]
  },
  {
   "cell_type": "code",
   "execution_count": 223,
   "metadata": {},
   "outputs": [
    {
     "name": "stdout",
     "output_type": "stream",
     "text": [
      "1\n"
     ]
    }
   ],
   "source": [
    "words = ['apple', 'bat', 'bar', 'atom', 'book']\n",
    "words_tuple = tuple(words)\n",
    "print(words_tuple.count('apple'))\n",
    "\n",
    "letters = {}\n",
    "for word in words:\n",
    "    for letter in word:\n",
    "        letters.setdefault(letter, []).append(word) "
   ]
  },
  {
   "cell_type": "code",
   "execution_count": 224,
   "metadata": {},
   "outputs": [
    {
     "data": {
      "text/plain": [
       "{'a': ['apple', 'bat', 'bar', 'atom'],\n",
       " 'p': ['apple', 'apple'],\n",
       " 'l': ['apple'],\n",
       " 'e': ['apple'],\n",
       " 'b': ['bat', 'bar', 'book'],\n",
       " 't': ['bat', 'atom'],\n",
       " 'r': ['bar'],\n",
       " 'o': ['atom', 'book', 'book'],\n",
       " 'm': ['atom'],\n",
       " 'k': ['book']}"
      ]
     },
     "execution_count": 224,
     "metadata": {},
     "output_type": "execute_result"
    }
   ],
   "source": [
    "letters"
   ]
  },
  {
   "cell_type": "markdown",
   "metadata": {},
   "source": [
    "##### Immutable Objects:\n",
    "immutable objects, technically are called 'hashable'\n",
    "keys of a dict should be immutable\n",
    "\n",
    "##### to check whether one objec is hashable:"
   ]
  },
  {
   "cell_type": "code",
   "execution_count": 1,
   "metadata": {},
   "outputs": [
    {
     "data": {
      "text/plain": [
       "(12, 1, 298939599396838247, 2528502973976161366)"
      ]
     },
     "execution_count": 1,
     "metadata": {},
     "output_type": "execute_result"
    }
   ],
   "source": [
    "a = 12\n",
    "b = True\n",
    "c = 'ali'\n",
    "d = [1, 2, 4]\n",
    "t = tuple(d)\n",
    "\n",
    "hash(a), hash(b), hash(c), hash(t)"
   ]
  },
  {
   "cell_type": "markdown",
   "metadata": {},
   "source": [
    "## Set"
   ]
  },
  {
   "cell_type": "code",
   "execution_count": 32,
   "metadata": {},
   "outputs": [
    {
     "name": "stdout",
     "output_type": "stream",
     "text": [
      "{2, 3, 4, 5, 6, 8, 10, 11, 12} {2, 3, 4, 5, 6, 8}\n"
     ]
    },
    {
     "data": {
      "text/plain": [
       "{2, 3, 4, 5, 6, 8}"
      ]
     },
     "execution_count": 32,
     "metadata": {},
     "output_type": "execute_result"
    }
   ],
   "source": [
    "s1 = set((2, 3, 5, 6, 8, 2, 3, 4, 10, 11, 12))\n",
    "s2 = set([2, 3, 5, 6, 8, 2, 3, 4])\n",
    "\n",
    "temp = set([2, 3, 5])\n",
    "\n",
    "print(s1, s2)\n",
    "s1.union(s2) # ~ s1 | s2\n",
    "\n",
    "s1.intersection(s2) # ~ s1 & s2"
   ]
  },
  {
   "cell_type": "markdown",
   "metadata": {},
   "source": [
    "##### Subset, Superset"
   ]
  },
  {
   "cell_type": "code",
   "execution_count": 25,
   "metadata": {},
   "outputs": [
    {
     "data": {
      "text/plain": [
       "(True, False)"
      ]
     },
     "execution_count": 25,
     "metadata": {},
     "output_type": "execute_result"
    }
   ],
   "source": [
    "s1.issuperset(s2), s1.issubset(s2)"
   ]
  },
  {
   "cell_type": "markdown",
   "metadata": {},
   "source": [
    "##### Equal Sets"
   ]
  },
  {
   "cell_type": "code",
   "execution_count": 53,
   "metadata": {},
   "outputs": [
    {
     "data": {
      "text/plain": [
       "True"
      ]
     },
     "execution_count": 53,
     "metadata": {},
     "output_type": "execute_result"
    }
   ],
   "source": [
    "{(1, 2, 4)} == {(1, 2, 4)}"
   ]
  },
  {
   "cell_type": "markdown",
   "metadata": {},
   "source": [
    "### Union, difference"
   ]
  },
  {
   "cell_type": "code",
   "execution_count": 33,
   "metadata": {},
   "outputs": [
    {
     "data": {
      "text/plain": [
       "({2, 3, 5}, {2, 3, 4, 5, 6, 8})"
      ]
     },
     "execution_count": 33,
     "metadata": {},
     "output_type": "execute_result"
    }
   ],
   "source": [
    "s1 | s2\n",
    "s1 & s2\n",
    "s1 |= temp\n",
    "s1 &= temp\n",
    "s1, s2"
   ]
  },
  {
   "cell_type": "code",
   "execution_count": 35,
   "metadata": {},
   "outputs": [
    {
     "data": {
      "text/plain": [
       "{4, 6, 8}"
      ]
     },
     "execution_count": 35,
     "metadata": {},
     "output_type": "execute_result"
    }
   ],
   "source": [
    "s1 ^ s2 #Symmetric difference"
   ]
  },
  {
   "cell_type": "code",
   "execution_count": 74,
   "metadata": {},
   "outputs": [],
   "source": [
    "my_data = [1, 2, 3, 4]\n",
    "my_set = tuple(my_data)\n",
    "\n",
    "my_set = {(1, 2)} # you can define a Set using this syntax: {tuple}"
   ]
  },
  {
   "cell_type": "markdown",
   "metadata": {},
   "source": [
    "## List, set and Dict Comprehensions"
   ]
  },
  {
   "cell_type": "markdown",
   "metadata": {},
   "source": [
    "### List"
   ]
  },
  {
   "cell_type": "code",
   "execution_count": 13,
   "metadata": {},
   "outputs": [
    {
     "data": {
      "text/plain": [
       "[2, 3, 3, 4, 6]"
      ]
     },
     "execution_count": 13,
     "metadata": {},
     "output_type": "execute_result"
    }
   ],
   "source": [
    "strings = ['a', 'as', 'bat', 'car', 'dove', 'python']\n",
    "result = [len(x) for x in strings if len(x) >= 2]  # [ ... ]\n",
    "result "
   ]
  },
  {
   "cell_type": "markdown",
   "metadata": {},
   "source": []
  },
  {
   "cell_type": "code",
   "execution_count": 62,
   "metadata": {},
   "outputs": [
    {
     "data": {
      "text/plain": [
       "{'j': 'javier',\n",
       " 'o': 'john',\n",
       " 'h': 'michael',\n",
       " 'n': 'natalia',\n",
       " 'e': 'javier',\n",
       " 'm': 'maria',\n",
       " 'i': 'pilar',\n",
       " 'l': 'pilar',\n",
       " 'y': 'mary',\n",
       " 'c': 'michael',\n",
       " 'a': 'pilar',\n",
       " 'r': 'pilar',\n",
       " 's': 'steven',\n",
       " 't': 'natalia',\n",
       " 'v': 'javier',\n",
       " 'u': 'juan',\n",
       " 'p': 'pilar'}"
      ]
     },
     "execution_count": 62,
     "metadata": {},
     "output_type": "execute_result"
    }
   ],
   "source": [
    "all_data = [['John', 'Emily', 'Michael', 'Mary', 'Steven'], \n",
    "            ['Maria', 'Juan', 'Javier', 'Natalia', 'Pilar']]\n",
    "\n",
    "lower_case_names = []\n",
    "for names in all_data:\n",
    "    for name in names:\n",
    "        lower_case_names.append(name.lower())\n",
    "\n",
    "letter_map = {letter:word for word in lower_case_names for letter in word}\n",
    "letter_map"
   ]
  },
  {
   "cell_type": "code",
   "execution_count": 65,
   "metadata": {},
   "outputs": [
    {
     "data": {
      "text/plain": [
       "[4, 5, 7, 4, 6, 5, 4, 6, 7, 5]"
      ]
     },
     "execution_count": 65,
     "metadata": {},
     "output_type": "execute_result"
    }
   ],
   "source": [
    "lengths = [len(l) for ll in all_data for l in ll]\n",
    "\n",
    "lengths"
   ]
  },
  {
   "cell_type": "markdown",
   "metadata": {},
   "source": [
    "### Set"
   ]
  },
  {
   "cell_type": "code",
   "execution_count": 76,
   "metadata": {},
   "outputs": [],
   "source": [
    "unique_lengths = {len(s) for s in strings}"
   ]
  },
  {
   "cell_type": "markdown",
   "metadata": {},
   "source": [
    "###### functional"
   ]
  },
  {
   "cell_type": "code",
   "execution_count": 3,
   "metadata": {},
   "outputs": [
    {
     "data": {
      "text/plain": [
       "{1, 2, 3, 4, 6}"
      ]
     },
     "execution_count": 3,
     "metadata": {},
     "output_type": "execute_result"
    }
   ],
   "source": [
    "set(map(len, strings))"
   ]
  },
  {
   "cell_type": "markdown",
   "metadata": {},
   "source": [
    "### Dict"
   ]
  },
  {
   "cell_type": "code",
   "execution_count": 12,
   "metadata": {},
   "outputs": [
    {
     "data": {
      "text/plain": [
       "{'a': 1, 'as': 2, 'bat': 3, 'car': 3, 'dove': 4, 'python': 6}"
      ]
     },
     "execution_count": 12,
     "metadata": {},
     "output_type": "execute_result"
    }
   ],
   "source": [
    "{value : len(value) for index, value in enumerate(strings)}"
   ]
  },
  {
   "cell_type": "code",
   "execution_count": 66,
   "metadata": {},
   "outputs": [],
   "source": [
    "words = ['apple', 'bat', 'bar', 'atom', 'book']"
   ]
  },
  {
   "cell_type": "code",
   "execution_count": null,
   "metadata": {},
   "outputs": [],
   "source": []
  },
  {
   "cell_type": "markdown",
   "metadata": {},
   "source": [
    "# Functions"
   ]
  },
  {
   "cell_type": "markdown",
   "metadata": {},
   "source": [
    "Just to mention some key applications of functions in python here"
   ]
  },
  {
   "cell_type": "code",
   "execution_count": 71,
   "metadata": {},
   "outputs": [
    {
     "data": {
      "text/plain": [
       "(5, 1)"
      ]
     },
     "execution_count": 71,
     "metadata": {},
     "output_type": "execute_result"
    }
   ],
   "source": [
    "words = ['apple', 'bat', 'bar', 'atom', 'book']\n",
    "\n",
    "# multiple outputs:\n",
    "def words_counter(words):\n",
    "        return len(words), words[0].count('a')\n",
    "words_counter(words)"
   ]
  },
  {
   "cell_type": "markdown",
   "metadata": {},
   "source": [
    "#### apply a list of functions to a list of arguments"
   ]
  },
  {
   "cell_type": "markdown",
   "metadata": {},
   "source": [
    "A more functional pattern like this enables you to easily modify how the strings are\n",
    "transformed at a very high level"
   ]
  },
  {
   "cell_type": "code",
   "execution_count": 89,
   "metadata": {},
   "outputs": [
    {
     "data": {
      "text/plain": [
       "['Alabama',\n",
       " 'Georgia',\n",
       " 'Georgia',\n",
       " 'Georgia',\n",
       " 'Florida',\n",
       " 'South Carolina',\n",
       " 'West Virginia']"
      ]
     },
     "execution_count": 89,
     "metadata": {},
     "output_type": "execute_result"
    }
   ],
   "source": [
    "import re\n",
    "\n",
    "states = [' Alabama ', 'Georgia!', 'Georgia', 'georgia', 'FlOrIda', 'south carolina##', 'West virginia?']\n",
    "\n",
    "def remove_punctuations(word):\n",
    "    return re.sub('[!#?]','', word)\n",
    "    \n",
    "functions = [str.strip,\n",
    "            remove_punctuations,\n",
    "            str.title]\n",
    "result = []\n",
    "\n",
    "for word in states:\n",
    "    for function in functions:\n",
    "        word = function(word)\n",
    "    result.append(word)\n",
    "    \n",
    "result"
   ]
  },
  {
   "cell_type": "markdown",
   "metadata": {},
   "source": [
    "### Anonymous Function"
   ]
  },
  {
   "cell_type": "markdown",
   "metadata": {},
   "source": [
    "#### lambda\n",
    "we want to apply a function to the items of a List"
   ]
  },
  {
   "cell_type": "code",
   "execution_count": 97,
   "metadata": {},
   "outputs": [
    {
     "data": {
      "text/plain": [
       "[8, 0, 2, 10, 12]"
      ]
     },
     "execution_count": 97,
     "metadata": {},
     "output_type": "execute_result"
    }
   ],
   "source": [
    "def apply_to_list(ints, function):\n",
    "    return [function(x) for x in ints]\n",
    "\n",
    "ints = [4, 0, 1, 5, 6]\n",
    "apply_to_list(ints, lambda x: x * 2)"
   ]
  },
  {
   "cell_type": "markdown",
   "metadata": {},
   "source": [
    "assume that we want to define a function for the **key** of sort function"
   ]
  },
  {
   "cell_type": "code",
   "execution_count": 100,
   "metadata": {},
   "outputs": [
    {
     "data": {
      "text/plain": [
       "['card', 'bar', 'foo', 'abab', 'aaaa']"
      ]
     },
     "execution_count": 100,
     "metadata": {},
     "output_type": "execute_result"
    }
   ],
   "source": [
    "strings = ['foo', 'card', 'bar', 'aaaa', 'abab']\n",
    "strings.sort(key=lambda x: len(set(list(x))), reverse=True)\n",
    "strings"
   ]
  },
  {
   "cell_type": "markdown",
   "metadata": {},
   "source": [
    "### Currying\n",
    "partial use of a function"
   ]
  },
  {
   "cell_type": "code",
   "execution_count": 108,
   "metadata": {},
   "outputs": [
    {
     "data": {
      "text/plain": [
       "9"
      ]
     },
     "execution_count": 108,
     "metadata": {},
     "output_type": "execute_result"
    }
   ],
   "source": [
    "def multiply_function(x, y):\n",
    "    return (x-2) * y\n",
    "\n",
    "mul_five = lambda x: multiply_function(x, 5)\n",
    "\n",
    "from functools import partial\n",
    "mul_five = partial(multiply_function, 5)\n",
    "\n",
    "mul_five(3)"
   ]
  },
  {
   "cell_type": "markdown",
   "metadata": {},
   "source": [
    "### Generator"
   ]
  },
  {
   "cell_type": "markdown",
   "metadata": {},
   "source": [
    "you can generate some things and save in a generator"
   ]
  },
  {
   "cell_type": "code",
   "execution_count": 127,
   "metadata": {
    "collapsed": true
   },
   "outputs": [
    {
     "name": "stdout",
     "output_type": "stream",
     "text": [
      "<generator object <genexpr> at 0x7f373ec491b0>\n",
      "<generator object make_gen at 0x7f373ec492a0>\n",
      "\n",
      "0\n",
      "1\n",
      "4\n",
      "9\n",
      "16\n",
      "25\n",
      "36\n",
      "49\n",
      "64\n",
      "81\n",
      "100\n",
      "121\n",
      "144\n",
      "169\n",
      "196\n",
      "225\n",
      "256\n",
      "289\n",
      "324\n",
      "361\n",
      "400\n",
      "441\n",
      "484\n",
      "529\n",
      "576\n",
      "625\n",
      "676\n",
      "729\n",
      "784\n",
      "841\n",
      "900\n",
      "961\n",
      "1024\n",
      "1089\n",
      "1156\n",
      "1225\n",
      "1296\n",
      "1369\n",
      "1444\n",
      "1521\n",
      "1600\n",
      "1681\n",
      "1764\n",
      "1849\n",
      "1936\n",
      "2025\n",
      "2116\n",
      "2209\n",
      "2304\n",
      "2401\n",
      "2500\n",
      "2601\n",
      "2704\n",
      "2809\n",
      "2916\n",
      "3025\n",
      "3136\n",
      "3249\n",
      "3364\n",
      "3481\n",
      "3600\n",
      "3721\n",
      "3844\n",
      "3969\n",
      "4096\n",
      "4225\n",
      "4356\n",
      "4489\n",
      "4624\n",
      "4761\n",
      "4900\n",
      "5041\n",
      "5184\n",
      "5329\n",
      "5476\n",
      "5625\n",
      "5776\n",
      "5929\n",
      "6084\n",
      "6241\n",
      "6400\n",
      "6561\n",
      "6724\n",
      "6889\n",
      "7056\n",
      "7225\n",
      "7396\n",
      "7569\n",
      "7744\n",
      "7921\n",
      "8100\n",
      "8281\n",
      "8464\n",
      "8649\n",
      "8836\n",
      "9025\n",
      "9216\n",
      "9409\n",
      "9604\n",
      "9801\n"
     ]
    }
   ],
   "source": [
    "# two ways to make generator:\n",
    "\n",
    "# 1\n",
    "# use paranthesis in Comprehensions\n",
    "gen1 = (x**2 for x in range(100)) \n",
    "\n",
    "# 2\n",
    "# use Yield keyword\n",
    "def make_gen():\n",
    "    for i in range(100):\n",
    "        yield x**3\n",
    "gen2 = make_gen()\n",
    "\n",
    "print(gen1)\n",
    "print(gen2, end = '\\n\\n')\n",
    "\n",
    "for item in gen1:\n",
    "    print(item)"
   ]
  },
  {
   "cell_type": "markdown",
   "metadata": {},
   "source": [
    "### Iterators"
   ]
  },
  {
   "cell_type": "code",
   "execution_count": 27,
   "metadata": {},
   "outputs": [
    {
     "name": "stdout",
     "output_type": "stream",
     "text": [
      "A ['Alan', 'Adam']\n",
      "W ['Wes', 'Will']\n",
      "A ['Albert']\n",
      "S ['Steven']\n",
      "('Alan', 'Alan', 'Alan', 'Alan')\n",
      "('Alan', 'Alan', 'Alan', 'Adam')\n",
      "('Alan', 'Alan', 'Alan', 'Wes')\n",
      "('Alan', 'Alan', 'Alan', 'Will')\n",
      "('Alan', 'Alan', 'Alan', 'Albert')\n",
      "('Alan', 'Alan', 'Alan', 'Steven')\n",
      "('Alan', 'Alan', 'Adam', 'Adam')\n",
      "('Alan', 'Alan', 'Adam', 'Wes')\n",
      "('Alan', 'Alan', 'Adam', 'Will')\n",
      "('Alan', 'Alan', 'Adam', 'Albert')\n",
      "('Alan', 'Alan', 'Adam', 'Steven')\n",
      "('Alan', 'Alan', 'Wes', 'Wes')\n",
      "('Alan', 'Alan', 'Wes', 'Will')\n",
      "('Alan', 'Alan', 'Wes', 'Albert')\n",
      "('Alan', 'Alan', 'Wes', 'Steven')\n",
      "('Alan', 'Alan', 'Will', 'Will')\n",
      "('Alan', 'Alan', 'Will', 'Albert')\n",
      "('Alan', 'Alan', 'Will', 'Steven')\n",
      "('Alan', 'Alan', 'Albert', 'Albert')\n",
      "('Alan', 'Alan', 'Albert', 'Steven')\n",
      "('Alan', 'Alan', 'Steven', 'Steven')\n",
      "('Alan', 'Adam', 'Adam', 'Adam')\n",
      "('Alan', 'Adam', 'Adam', 'Wes')\n",
      "('Alan', 'Adam', 'Adam', 'Will')\n",
      "('Alan', 'Adam', 'Adam', 'Albert')\n",
      "('Alan', 'Adam', 'Adam', 'Steven')\n",
      "('Alan', 'Adam', 'Wes', 'Wes')\n",
      "('Alan', 'Adam', 'Wes', 'Will')\n",
      "('Alan', 'Adam', 'Wes', 'Albert')\n",
      "('Alan', 'Adam', 'Wes', 'Steven')\n",
      "('Alan', 'Adam', 'Will', 'Will')\n",
      "('Alan', 'Adam', 'Will', 'Albert')\n",
      "('Alan', 'Adam', 'Will', 'Steven')\n",
      "('Alan', 'Adam', 'Albert', 'Albert')\n",
      "('Alan', 'Adam', 'Albert', 'Steven')\n",
      "('Alan', 'Adam', 'Steven', 'Steven')\n",
      "('Alan', 'Wes', 'Wes', 'Wes')\n",
      "('Alan', 'Wes', 'Wes', 'Will')\n",
      "('Alan', 'Wes', 'Wes', 'Albert')\n",
      "('Alan', 'Wes', 'Wes', 'Steven')\n",
      "('Alan', 'Wes', 'Will', 'Will')\n",
      "('Alan', 'Wes', 'Will', 'Albert')\n",
      "('Alan', 'Wes', 'Will', 'Steven')\n",
      "('Alan', 'Wes', 'Albert', 'Albert')\n",
      "('Alan', 'Wes', 'Albert', 'Steven')\n",
      "('Alan', 'Wes', 'Steven', 'Steven')\n",
      "('Alan', 'Will', 'Will', 'Will')\n",
      "('Alan', 'Will', 'Will', 'Albert')\n",
      "('Alan', 'Will', 'Will', 'Steven')\n",
      "('Alan', 'Will', 'Albert', 'Albert')\n",
      "('Alan', 'Will', 'Albert', 'Steven')\n",
      "('Alan', 'Will', 'Steven', 'Steven')\n",
      "('Alan', 'Albert', 'Albert', 'Albert')\n",
      "('Alan', 'Albert', 'Albert', 'Steven')\n",
      "('Alan', 'Albert', 'Steven', 'Steven')\n",
      "('Alan', 'Steven', 'Steven', 'Steven')\n",
      "('Adam', 'Adam', 'Adam', 'Adam')\n",
      "('Adam', 'Adam', 'Adam', 'Wes')\n",
      "('Adam', 'Adam', 'Adam', 'Will')\n",
      "('Adam', 'Adam', 'Adam', 'Albert')\n",
      "('Adam', 'Adam', 'Adam', 'Steven')\n",
      "('Adam', 'Adam', 'Wes', 'Wes')\n",
      "('Adam', 'Adam', 'Wes', 'Will')\n",
      "('Adam', 'Adam', 'Wes', 'Albert')\n",
      "('Adam', 'Adam', 'Wes', 'Steven')\n",
      "('Adam', 'Adam', 'Will', 'Will')\n",
      "('Adam', 'Adam', 'Will', 'Albert')\n",
      "('Adam', 'Adam', 'Will', 'Steven')\n",
      "('Adam', 'Adam', 'Albert', 'Albert')\n",
      "('Adam', 'Adam', 'Albert', 'Steven')\n",
      "('Adam', 'Adam', 'Steven', 'Steven')\n",
      "('Adam', 'Wes', 'Wes', 'Wes')\n",
      "('Adam', 'Wes', 'Wes', 'Will')\n",
      "('Adam', 'Wes', 'Wes', 'Albert')\n",
      "('Adam', 'Wes', 'Wes', 'Steven')\n",
      "('Adam', 'Wes', 'Will', 'Will')\n",
      "('Adam', 'Wes', 'Will', 'Albert')\n",
      "('Adam', 'Wes', 'Will', 'Steven')\n",
      "('Adam', 'Wes', 'Albert', 'Albert')\n",
      "('Adam', 'Wes', 'Albert', 'Steven')\n",
      "('Adam', 'Wes', 'Steven', 'Steven')\n",
      "('Adam', 'Will', 'Will', 'Will')\n",
      "('Adam', 'Will', 'Will', 'Albert')\n",
      "('Adam', 'Will', 'Will', 'Steven')\n",
      "('Adam', 'Will', 'Albert', 'Albert')\n",
      "('Adam', 'Will', 'Albert', 'Steven')\n",
      "('Adam', 'Will', 'Steven', 'Steven')\n",
      "('Adam', 'Albert', 'Albert', 'Albert')\n",
      "('Adam', 'Albert', 'Albert', 'Steven')\n",
      "('Adam', 'Albert', 'Steven', 'Steven')\n",
      "('Adam', 'Steven', 'Steven', 'Steven')\n",
      "('Wes', 'Wes', 'Wes', 'Wes')\n",
      "('Wes', 'Wes', 'Wes', 'Will')\n",
      "('Wes', 'Wes', 'Wes', 'Albert')\n",
      "('Wes', 'Wes', 'Wes', 'Steven')\n",
      "('Wes', 'Wes', 'Will', 'Will')\n",
      "('Wes', 'Wes', 'Will', 'Albert')\n",
      "('Wes', 'Wes', 'Will', 'Steven')\n",
      "('Wes', 'Wes', 'Albert', 'Albert')\n",
      "('Wes', 'Wes', 'Albert', 'Steven')\n",
      "('Wes', 'Wes', 'Steven', 'Steven')\n",
      "('Wes', 'Will', 'Will', 'Will')\n",
      "('Wes', 'Will', 'Will', 'Albert')\n",
      "('Wes', 'Will', 'Will', 'Steven')\n",
      "('Wes', 'Will', 'Albert', 'Albert')\n",
      "('Wes', 'Will', 'Albert', 'Steven')\n",
      "('Wes', 'Will', 'Steven', 'Steven')\n",
      "('Wes', 'Albert', 'Albert', 'Albert')\n",
      "('Wes', 'Albert', 'Albert', 'Steven')\n",
      "('Wes', 'Albert', 'Steven', 'Steven')\n",
      "('Wes', 'Steven', 'Steven', 'Steven')\n",
      "('Will', 'Will', 'Will', 'Will')\n",
      "('Will', 'Will', 'Will', 'Albert')\n",
      "('Will', 'Will', 'Will', 'Steven')\n",
      "('Will', 'Will', 'Albert', 'Albert')\n",
      "('Will', 'Will', 'Albert', 'Steven')\n",
      "('Will', 'Will', 'Steven', 'Steven')\n",
      "('Will', 'Albert', 'Albert', 'Albert')\n",
      "('Will', 'Albert', 'Albert', 'Steven')\n",
      "('Will', 'Albert', 'Steven', 'Steven')\n",
      "('Will', 'Steven', 'Steven', 'Steven')\n",
      "('Albert', 'Albert', 'Albert', 'Albert')\n",
      "('Albert', 'Albert', 'Albert', 'Steven')\n",
      "('Albert', 'Albert', 'Steven', 'Steven')\n",
      "('Albert', 'Steven', 'Steven', 'Steven')\n",
      "('Steven', 'Steven', 'Steven', 'Steven')\n"
     ]
    }
   ],
   "source": [
    "import itertools as it\n",
    "\n",
    "names = ['Alan', 'Adam', 'Wes', 'Will', 'Albert', 'Steven']\n",
    "\n",
    "first_letter = lambda x: x[0]\n",
    "\n",
    "for letter, names in itertools.groupby(names, first_letter):\n",
    "    print(letter, list(names))\n",
    "    \n",
    "names = ['Alan', 'Adam', 'Wes', 'Will', 'Albert', 'Steven']\n",
    "for i in itertools.combinations_with_replacement(names, 4):\n",
    "    print(i)"
   ]
  },
  {
   "cell_type": "markdown",
   "metadata": {},
   "source": [
    "## Error handling in python"
   ]
  },
  {
   "cell_type": "code",
   "execution_count": 9,
   "metadata": {},
   "outputs": [
    {
     "name": "stdout",
     "output_type": "stream",
     "text": [
      "Error Handling Done!\n",
      "Error Handling Done!\n",
      "Failed\n"
     ]
    },
    {
     "ename": "NameError",
     "evalue": "name 'f' is not defined",
     "output_type": "error",
     "traceback": [
      "\u001b[0;31m---------------------------------------------------------------------------\u001b[0m",
      "\u001b[0;31mNameError\u001b[0m                                 Traceback (most recent call last)",
      "\u001b[0;32m<ipython-input-9-40e9db849010>\u001b[0m in \u001b[0;36m<module>\u001b[0;34m\u001b[0m\n\u001b[1;32m     18\u001b[0m     \u001b[0mprint\u001b[0m\u001b[0;34m(\u001b[0m\u001b[0;34m'Succeeded'\u001b[0m\u001b[0;34m)\u001b[0m\u001b[0;34m\u001b[0m\u001b[0;34m\u001b[0m\u001b[0m\n\u001b[1;32m     19\u001b[0m \u001b[0;32mfinally\u001b[0m\u001b[0;34m:\u001b[0m\u001b[0;34m\u001b[0m\u001b[0;34m\u001b[0m\u001b[0m\n\u001b[0;32m---> 20\u001b[0;31m     \u001b[0mf\u001b[0m\u001b[0;34m.\u001b[0m\u001b[0mclose\u001b[0m\u001b[0;34m(\u001b[0m\u001b[0;34m)\u001b[0m\u001b[0;34m\u001b[0m\u001b[0;34m\u001b[0m\u001b[0m\n\u001b[0m",
      "\u001b[0;31mNameError\u001b[0m: name 'f' is not defined"
     ]
    }
   ],
   "source": [
    "def float_value(temp_string):\n",
    "    try:\n",
    "        return float(temp_string)\n",
    "    except(TypeError, ValueError):\n",
    "        return temp_string\n",
    "    finally:\n",
    "        print('Error Handling Done!')\n",
    "\n",
    "float_value('1.2'), float_value('error')\n",
    "\n",
    "\n",
    "try:\n",
    "    f = open(path, 'w')\n",
    "    write_to_file(f)\n",
    "except:\n",
    "    print('Failed')\n",
    "else:\n",
    "    print('Succeeded')\n",
    "finally:\n",
    "    f.close()"
   ]
  },
  {
   "cell_type": "markdown",
   "metadata": {},
   "source": [
    "## File"
   ]
  },
  {
   "cell_type": "markdown",
   "metadata": {},
   "source": [
    "### different modes on openning files:\n",
    "**W** : write mode, overrites if the file exists \n",
    "\n",
    "**r** : read mode\n",
    "\n",
    "**r+**: read and Write mode\n",
    "\n",
    "**X** : write, error throws if a file with the same name exists "
   ]
  },
  {
   "cell_type": "markdown",
   "metadata": {},
   "source": [
    "<img src='./table1.jpg' align=\"left\">"
   ]
  },
  {
   "cell_type": "markdown",
   "metadata": {},
   "source": [
    " "
   ]
  },
  {
   "cell_type": "code",
   "execution_count": 112,
   "metadata": {},
   "outputs": [],
   "source": [
    "f = open('test1.txt','w+')\n",
    "my_string = \"Sueña el rico en su riqueza ue más cuidados le ofrece sueña el pobre que padece su miseria \\n y su pobreza; sueña el que a medrar empieza sueña el que afana y pretendesueña el que agravia \\n y ofendey en el mundo en conclusióntodos sueñan lo que sonaunque ninguno lo entiende.\"\n",
    "f.write(my_string)\n",
    "f.close()"
   ]
  },
  {
   "cell_type": "code",
   "execution_count": 163,
   "metadata": {},
   "outputs": [
    {
     "data": {
      "text/plain": [
       "'Sueña el rico en su riqueza ue más cuidados le ofrece sueña el pobre que padece su miseria \\n\\n y su pobreza; sueña el que a medrar empieza sueña el que afana y pretendesueña el que agravia \\n\\\\n \\n y ofendey en el mundo en conclusióntodos sueñan lo que sonaunque ninguno lo entiende.'"
      ]
     },
     "execution_count": 163,
     "metadata": {},
     "output_type": "execute_result"
    }
   ],
   "source": [
    "f = open('test1.txt', 'r')\n",
    "line = f.read()\n",
    "line\n"
   ]
  },
  {
   "cell_type": "code",
   "execution_count": 155,
   "metadata": {},
   "outputs": [
    {
     "data": {
      "text/plain": [
       "282"
      ]
     },
     "execution_count": 155,
     "metadata": {},
     "output_type": "execute_result"
    }
   ],
   "source": [
    "f = open('test1.txt','r+')\n",
    "my_string = \"Sueña el rico en su riqueza ue más cuidados le ofrece sueña el pobre que padece su miseria \\n y su pobreza; sueña el que a medrar empieza sueña el que afana y pretendesueña el que agravia \\n y ofendey en el mundo en conclusióntodos sueñan lo que sonaunque ninguno lo entiende.\"\n",
    "f.write(my_string)\n",
    "f.tell()"
   ]
  },
  {
   "cell_type": "code",
   "execution_count": 165,
   "metadata": {},
   "outputs": [
    {
     "data": {
      "text/plain": [
       "'a el rico '"
      ]
     },
     "execution_count": 165,
     "metadata": {},
     "output_type": "execute_result"
    }
   ],
   "source": [
    "f.seek(5) #puts the header on the fifth Character\n",
    "f.read(10) #reads 10 Character"
   ]
  },
  {
   "cell_type": "code",
   "execution_count": 166,
   "metadata": {},
   "outputs": [],
   "source": [
    "f.close()"
   ]
  },
  {
   "cell_type": "markdown",
   "metadata": {},
   "source": [
    "Automatically close files using **With** keyword"
   ]
  },
  {
   "cell_type": "code",
   "execution_count": 170,
   "metadata": {},
   "outputs": [
    {
     "name": "stdout",
     "output_type": "stream",
     "text": [
      "Sueña el rico en su riqueza ue más cuidados le ofrece sueña el pobre que padece su miseria \n",
      "\n",
      " y su pobreza; sueña el que\n"
     ]
    }
   ],
   "source": [
    "with open('test1.txt') as f:\n",
    "    print(f.read(120))"
   ]
  },
  {
   "cell_type": "markdown",
   "metadata": {},
   "source": [
    " "
   ]
  },
  {
   "cell_type": "code",
   "execution_count": null,
   "metadata": {},
   "outputs": [],
   "source": []
  },
  {
   "cell_type": "markdown",
   "metadata": {},
   "source": [
    "<img src='table2.jpg'>"
   ]
  },
  {
   "cell_type": "markdown",
   "metadata": {},
   "source": [
    "<img src=\"table2-2.jpg\">"
   ]
  },
  {
   "cell_type": "code",
   "execution_count": null,
   "metadata": {},
   "outputs": [],
   "source": []
  }
 ],
 "metadata": {
  "kernelspec": {
   "display_name": "Python 3",
   "language": "python",
   "name": "python3"
  },
  "language_info": {
   "codemirror_mode": {
    "name": "ipython",
    "version": 3
   },
   "file_extension": ".py",
   "mimetype": "text/x-python",
   "name": "python",
   "nbconvert_exporter": "python",
   "pygments_lexer": "ipython3",
   "version": "3.7.3"
  }
 },
 "nbformat": 4,
 "nbformat_minor": 2
}
