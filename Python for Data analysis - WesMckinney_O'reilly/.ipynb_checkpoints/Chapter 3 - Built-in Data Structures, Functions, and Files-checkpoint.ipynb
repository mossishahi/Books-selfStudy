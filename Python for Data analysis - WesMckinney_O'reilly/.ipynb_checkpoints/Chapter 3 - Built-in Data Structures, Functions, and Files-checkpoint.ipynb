{
 "cells": [
  {
   "cell_type": "markdown",
   "metadata": {},
   "source": [
    "## Tuple"
   ]
  },
  {
   "cell_type": "code",
   "execution_count": 2,
   "metadata": {},
   "outputs": [
    {
     "name": "stdout",
     "output_type": "stream",
     "text": [
      "type of T3: <class 'list'>\n",
      "type of T4: <class 'tuple'>\n",
      "(6, 7) <class 'tuple'> 5 <class 'int'>\n",
      "a=1, b=2, c=3\n",
      "a=4, b=5, c=6\n",
      "a=7, b=8, c=9\n"
     ]
    },
    {
     "data": {
      "text/plain": [
       "([(6, 7), 0, 0], list, (6, 7), tuple)"
      ]
     },
     "execution_count": 2,
     "metadata": {},
     "output_type": "execute_result"
    }
   ],
   "source": [
    "#can be made of any sequence type, list or String, etc.\n",
    "t1 = (1, 2, 3, 6, 7)\n",
    "\n",
    "list_l = [1, 2, 3, 6, 7]\n",
    "t2 = tuple(list_l)\n",
    "\n",
    "#Lists and Tuples inside each other:\n",
    "list_l2 = [[1, 2], 3, 6, 7]\n",
    "t3 = tuple(list_l2)\n",
    "print(\"type of T3:\", type(t3[0]))\n",
    "t4 = [(1,2), (3,4), (5,6)]\n",
    "print(\"type of T4:\", type(t4[0]))\n",
    "\n",
    "#divide a tuple to its items\n",
    "tup = (4, 5, (6, 7), 0, 0)\n",
    "a, b, c, d, e = tup\n",
    "print(c, type(c), b, type(b))\n",
    "\n",
    "### accessing tuple items \n",
    "temp_tuple = [(1, 2, 3), (4, 5, 6), (7, 8, 9)]\n",
    "for a, b, c in temp_tuple:\n",
    "    print('a={0}, b={1}, c={2}'.format(a, b, c))\n",
    "\n",
    "#discard the REST of values\n",
    "t, f, *rest = tup  #in the same way you can write: d, *_ = tup \n",
    "\n",
    "rest, type(rest), rest[0], type(rest[0])"
   ]
  },
  {
   "cell_type": "markdown",
   "metadata": {},
   "source": [
    "### Tuple's functions - only one function"
   ]
  },
  {
   "cell_type": "code",
   "execution_count": 3,
   "metadata": {},
   "outputs": [
    {
     "data": {
      "text/plain": [
       "2"
      ]
     },
     "execution_count": 3,
     "metadata": {},
     "output_type": "execute_result"
    }
   ],
   "source": [
    "tup.count(0)"
   ]
  },
  {
   "cell_type": "markdown",
   "metadata": {},
   "source": [
    "## List"
   ]
  },
  {
   "cell_type": "code",
   "execution_count": null,
   "metadata": {},
   "outputs": [],
   "source": [
    "a = [1,2,3,4,5,6] #List\n",
    "t = (1,2,3,4,5,6) #Tuple\n",
    "\n",
    "t_list = list(t)\n",
    "t_list\n",
    "\n",
    "a_tuple = tuple(a)\n",
    "a_tuple"
   ]
  },
  {
   "cell_type": "code",
   "execution_count": 41,
   "metadata": {},
   "outputs": [
    {
     "data": {
      "text/plain": [
       "[1, 2, 3, 4, 5, 6, 6.5]"
      ]
     },
     "execution_count": 41,
     "metadata": {},
     "output_type": "execute_result"
    }
   ],
   "source": [
    "a.insert(6, 6.5) #inPlace\n",
    "a"
   ]
  },
  {
   "cell_type": "code",
   "execution_count": 42,
   "metadata": {},
   "outputs": [],
   "source": [
    "a.append(7) #Append is Computationally more efficient than insert, because insert should SHIFT ALL elements in memory\n",
    "a"
   ]
  },
  {
   "cell_type": "markdown",
   "metadata": {},
   "source": [
    "#### pop, and remove function"
   ]
  },
  {
   "cell_type": "code",
   "execution_count": 75,
   "metadata": {},
   "outputs": [
    {
     "data": {
      "text/plain": [
       "'baz'"
      ]
     },
     "execution_count": 75,
     "metadata": {},
     "output_type": "execute_result"
    }
   ],
   "source": [
    "string_list = ['foo', 'red', 'peekaboo', 'baz', 'dwarf']\n",
    "string_list.pop(-2) #inplace"
   ]
  },
  {
   "cell_type": "code",
   "execution_count": 76,
   "metadata": {},
   "outputs": [
    {
     "data": {
      "text/plain": [
       "['foo', 'red', 'peekaboo', 'dwarf']"
      ]
     },
     "execution_count": 76,
     "metadata": {},
     "output_type": "execute_result"
    }
   ],
   "source": [
    "string_list"
   ]
  },
  {
   "cell_type": "code",
   "execution_count": 77,
   "metadata": {},
   "outputs": [
    {
     "data": {
      "text/plain": [
       "'dwarf'"
      ]
     },
     "execution_count": 77,
     "metadata": {},
     "output_type": "execute_result"
    }
   ],
   "source": [
    "string_list.pop() #The last item"
   ]
  },
  {
   "cell_type": "markdown",
   "metadata": {},
   "source": [
    "#### Extend and shorten lists"
   ]
  },
  {
   "cell_type": "code",
   "execution_count": 68,
   "metadata": {},
   "outputs": [
    {
     "name": "stdout",
     "output_type": "stream",
     "text": [
      "['foo', 'peekaboo', 'baz', 'dwarf']\n",
      "['foo', 'peekaboo', 'baz', 'dwarf', 'Ali', 'Mohammad', ('ali', 'mohammad'), 'Ex1', 'Ex2', 'Ex3', 'Ex4', 'Ex5']\n",
      "\n",
      "\n",
      "['foo', 'peekaboo', 'baz', 'dwarf', 'Ali', 'Mohammad', ('ali', 'mohammad'), 'Ex1', 'Ex2', 'Ex3', 'Ex4', 'Ex5', 'E', 'x', '1', 'E', 'x', '2', 'E', 'x', '3', 'E', 'x', '4', 'E', 'x', '5']\n",
      "\n",
      "\n",
      "['foo', 'peekaboo', 'baz', 'dwarf', 'Ali', 'Mohammad', ('ali', 'mohammad'), 'Ex1', 'Ex2', 'Ex3', 'Ex4', 'Ex5', 'E', 'x', '1', 'E', 'x', '2', 'E', 'x', '3', 'E', 'x', '4', 'E', 'x', '5', 'E', 'x', '1', 'E', 'x', '2', 'E', 'x', '3', 'E', 'x', '4', 'E', 'x', '5']\n"
     ]
    }
   ],
   "source": [
    "string_list = ['foo', 'red', 'peekaboo', 'baz', 'dwarf']\n",
    "\n",
    "#remove method\n",
    "string_list.remove('red')\n",
    "print(string_list)\n",
    "\n",
    "# += operator\n",
    "string_list += ['Ali', 'Mohammad', ('ali', 'mohammad')]\n",
    "string_list\n",
    "type(string_list[6])\n",
    "\n",
    "#--------------------------------------------\n",
    "extension1 = ['Ex1']\n",
    "extension2 = ['Ex2']\n",
    "extension3 = ['Ex3']\n",
    "extension4 = ['Ex4']\n",
    "extension5 = ['Ex5']\n",
    "extension6 = ['Ex6']\n",
    "extensions = []\n",
    "for i in range(1, 6):\n",
    "    extensions.extend(eval('extension'+str(i)))\n",
    "#----------------------------------------------\n",
    "for extension in extensions:\n",
    "    string_list.append(extension)\n",
    "print(string_list)\n",
    "print('\\n') \n",
    "\n",
    "#The difference between append and extend facing the strings\n",
    "# APPEND gets an item, yet the EXTEND method gets a list\n",
    "for extension in extensions:\n",
    "    string_list.extend(extension)\n",
    "print(string_list)\n",
    "print('\\n')\n",
    "\n",
    "# (+= acts like extend method)\n",
    "for extension in extensions:\n",
    "    string_list += extension\n",
    "print(string_list)"
   ]
  },
  {
   "cell_type": "markdown",
   "metadata": {},
   "source": [
    "### sort list"
   ]
  },
  {
   "cell_type": "code",
   "execution_count": 74,
   "metadata": {},
   "outputs": [],
   "source": [
    "string_list = ['foo', 'red', 'peekaboo', 'baz', 'dwarf']\n",
    "sorted_list = string_list.sort()"
   ]
  },
  {
   "cell_type": "code",
   "execution_count": null,
   "metadata": {},
   "outputs": [],
   "source": []
  },
  {
   "cell_type": "code",
   "execution_count": null,
   "metadata": {},
   "outputs": [],
   "source": []
  }
 ],
 "metadata": {
  "kernelspec": {
   "display_name": "Python 3",
   "language": "python",
   "name": "python3"
  },
  "language_info": {
   "codemirror_mode": {
    "name": "ipython",
    "version": 3
   },
   "file_extension": ".py",
   "mimetype": "text/x-python",
   "name": "python",
   "nbconvert_exporter": "python",
   "pygments_lexer": "ipython3",
   "version": "3.7.3"
  }
 },
 "nbformat": 4,
 "nbformat_minor": 2
}
