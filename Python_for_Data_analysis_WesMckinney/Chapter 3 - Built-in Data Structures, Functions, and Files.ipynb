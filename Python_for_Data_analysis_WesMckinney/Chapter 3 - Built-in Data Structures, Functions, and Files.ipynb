{
 "cells": [
  {
   "cell_type": "markdown",
   "metadata": {},
   "source": [
    "### Tuple"
   ]
  },
  {
   "cell_type": "code",
   "execution_count": 95,
   "metadata": {},
   "outputs": [
    {
     "name": "stdout",
     "output_type": "stream",
     "text": [
      "type of T3: <class 'list'>\n",
      "type of T4: <class 'tuple'>\n",
      "(6, 7) <class 'tuple'> 5 <class 'int'>\n",
      "a=1, b=2, c=3\n",
      "a=4, b=5, c=6\n",
      "a=7, b=8, c=9\n"
     ]
    },
    {
     "data": {
      "text/plain": [
       "([(6, 7), 0, 0], list, (6, 7), tuple)"
      ]
     },
     "execution_count": 95,
     "metadata": {},
     "output_type": "execute_result"
    }
   ],
   "source": [
    "#can be made of any sequence type, list or String, etc.\n",
    "t1 = (1, 2, 3, 6, 7)\n",
    "\n",
    "list_l = [1, 2, 3, 6, 7]\n",
    "t2 = tuple(list_l)\n",
    "\n",
    "#Lists and Tuples inside each other:\n",
    "list_l2 = [[1, 2], 3, 6, 7]\n",
    "t3 = tuple(list_l2)\n",
    "print(\"type of T3:\", type(t3[0]))\n",
    "t4 = [(1,2), (3,4), (5,6)]\n",
    "print(\"type of T4:\", type(t4[0]))\n",
    "\n",
    "#divide a tuple to its items\n",
    "tup = (4, 5, (6, 7), 0, 0)\n",
    "a, b, c, d, e = tup\n",
    "print(c, type(c), b, type(b))\n",
    "\n",
    "### accessing tuple items \n",
    "temp_tuple = [(1, 2, 3), (4, 5, 6), (7, 8, 9)]\n",
    "for a, b, c in temp_tuple:\n",
    "    print('a={0}, b={1}, c={2}'.format(a, b, c))\n",
    "\n",
    "#discard the REST of values\n",
    "t, f, *rest = tup  #in the same way you can write: d, *_ = tup \n",
    "\n",
    "rest, type(rest), rest[0], type(rest[0])"
   ]
  },
  {
   "cell_type": "markdown",
   "metadata": {},
   "source": [
    "### Tuple's functions - only one function"
   ]
  },
  {
   "cell_type": "code",
   "execution_count": 84,
   "metadata": {},
   "outputs": [
    {
     "data": {
      "text/plain": [
       "2"
      ]
     },
     "execution_count": 84,
     "metadata": {},
     "output_type": "execute_result"
    }
   ],
   "source": [
    "tup.count(0)"
   ]
  },
  {
   "cell_type": "code",
   "execution_count": 96,
   "metadata": {},
   "outputs": [
    {
     "name": "stdout",
     "output_type": "stream",
     "text": [
      "{'United States': (True, 809), 'Australia': (False, 731), 'Japan': (False, 588), 'India': (False, 18), 'Russia': (True, 200), 'Morocco': (True, 70), 'Egypt': (True, 45)}\n"
     ]
    }
   ],
   "source": [
    "# Pre-defined lists\n",
    "names = ['United States', 'Australia', 'Japan', 'India', 'Russia', 'Morocco', 'Egypt']\n",
    "dr =  [True, False, False, False, True, True, True]\n",
    "cpc = [809, 731, 588, 18, 200, 70, 45]\n",
    "\n",
    "# Import pandas as pd\n",
    "import pandas as pd\n",
    "\n",
    "# Create dictionary my_dict with three key:value pairs: my_dict\n",
    "my_dict = dict(zip(names, (zip(dr, cpc))))\n",
    "\n",
    "# Build a DataFrame cars from my_dict: cars\n",
    "\n",
    "print(my_dict)\n",
    "# Print cars\n"
   ]
  }
 ],
 "metadata": {
  "kernelspec": {
   "display_name": "Python 3",
   "language": "python",
   "name": "python3"
  },
  "language_info": {
   "codemirror_mode": {
    "name": "ipython",
    "version": 3
   },
   "file_extension": ".py",
   "mimetype": "text/x-python",
   "name": "python",
   "nbconvert_exporter": "python",
   "pygments_lexer": "ipython3",
   "version": "3.7.3"
  }
 },
 "nbformat": 4,
 "nbformat_minor": 2
}
