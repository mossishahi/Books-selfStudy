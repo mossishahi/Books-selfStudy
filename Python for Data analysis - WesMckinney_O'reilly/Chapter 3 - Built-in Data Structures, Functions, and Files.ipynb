{
 "cells": [
  {
   "cell_type": "markdown",
   "metadata": {},
   "source": [
    "## Tuple"
   ]
  },
  {
   "cell_type": "code",
   "execution_count": 2,
   "metadata": {},
   "outputs": [
    {
     "name": "stdout",
     "output_type": "stream",
     "text": [
      "type of T3: <class 'list'>\n",
      "type of T4: <class 'tuple'>\n",
      "(6, 7) <class 'tuple'> 5 <class 'int'>\n",
      "a=1, b=2, c=3\n",
      "a=4, b=5, c=6\n",
      "a=7, b=8, c=9\n"
     ]
    },
    {
     "data": {
      "text/plain": [
       "([(6, 7), 0, 0], list, (6, 7), tuple)"
      ]
     },
     "execution_count": 2,
     "metadata": {},
     "output_type": "execute_result"
    }
   ],
   "source": [
    "#can be made of any sequence type, list or String, etc.\n",
    "t1 = (1, 2, 3, 6, 7)\n",
    "\n",
    "list_l = [1, 2, 3, 6, 7]\n",
    "t2 = tuple(list_l)\n",
    "\n",
    "#Lists and Tuples inside each other:\n",
    "list_l2 = [[1, 2], 3, 6, 7]\n",
    "t3 = tuple(list_l2)\n",
    "print(\"type of T3:\", type(t3[0]))\n",
    "t4 = [(1,2), (3,4), (5,6)]\n",
    "print(\"type of T4:\", type(t4[0]))\n",
    "\n",
    "#divide a tuple to its items\n",
    "tup = (4, 5, (6, 7), 0, 0)\n",
    "a, b, c, d, e = tup\n",
    "print(c, type(c), b, type(b))\n",
    "\n",
    "### accessing tuple items \n",
    "temp_tuple = [(1, 2, 3), (4, 5, 6), (7, 8, 9)]\n",
    "for a, b, c in temp_tuple:\n",
    "    print('a={0}, b={1}, c={2}'.format(a, b, c))\n",
    "\n",
    "#discard the REST of values\n",
    "t, f, *rest = tup  #in the same way you can write: d, *_ = tup \n",
    "\n",
    "rest, type(rest), rest[0], type(rest[0])"
   ]
  },
  {
   "cell_type": "markdown",
   "metadata": {},
   "source": [
    "### Tuple's functions - only one function"
   ]
  },
  {
   "cell_type": "code",
   "execution_count": 3,
   "metadata": {},
   "outputs": [
    {
     "data": {
      "text/plain": [
       "2"
      ]
     },
     "execution_count": 3,
     "metadata": {},
     "output_type": "execute_result"
    }
   ],
   "source": [
    "tup.count(0)"
   ]
  },
  {
   "cell_type": "markdown",
   "metadata": {},
   "source": [
    "## List"
   ]
  },
  {
   "cell_type": "code",
   "execution_count": null,
   "metadata": {},
   "outputs": [],
   "source": [
    "a = [1,2,3,4,5,6] #List\n",
    "t = (1,2,3,4,5,6) #Tuple\n",
    "\n",
    "t_list = list(t)\n",
    "t_list\n",
    "\n",
    "a_tuple = tuple(a)\n",
    "a_tuple"
   ]
  },
  {
   "cell_type": "code",
   "execution_count": 41,
   "metadata": {},
   "outputs": [
    {
     "data": {
      "text/plain": [
       "[1, 2, 3, 4, 5, 6, 6.5]"
      ]
     },
     "execution_count": 41,
     "metadata": {},
     "output_type": "execute_result"
    }
   ],
   "source": [
    "a.insert(6, 6.5) #inPlace\n",
    "a"
   ]
  },
  {
   "cell_type": "code",
   "execution_count": 42,
   "metadata": {},
   "outputs": [],
   "source": [
    "a.append(7) #Append is Computationally more efficient than insert, because insert should SHIFT ALL elements in memory\n",
    "a"
   ]
  },
  {
   "cell_type": "markdown",
   "metadata": {},
   "source": [
    "#### pop, and remove function"
   ]
  },
  {
   "cell_type": "code",
   "execution_count": 75,
   "metadata": {},
   "outputs": [
    {
     "data": {
      "text/plain": [
       "'baz'"
      ]
     },
     "execution_count": 75,
     "metadata": {},
     "output_type": "execute_result"
    }
   ],
   "source": [
    "string_list = ['foo', 'red', 'peekaboo', 'baz', 'dwarf']\n",
    "string_list.pop(-2) #inplace"
   ]
  },
  {
   "cell_type": "code",
   "execution_count": 76,
   "metadata": {},
   "outputs": [
    {
     "data": {
      "text/plain": [
       "['foo', 'red', 'peekaboo', 'dwarf']"
      ]
     },
     "execution_count": 76,
     "metadata": {},
     "output_type": "execute_result"
    }
   ],
   "source": [
    "string_list"
   ]
  },
  {
   "cell_type": "code",
   "execution_count": 77,
   "metadata": {},
   "outputs": [
    {
     "data": {
      "text/plain": [
       "'dwarf'"
      ]
     },
     "execution_count": 77,
     "metadata": {},
     "output_type": "execute_result"
    }
   ],
   "source": [
    "string_list.pop() #The last item"
   ]
  },
  {
   "cell_type": "markdown",
   "metadata": {},
   "source": [
    "#### Extend and shorten lists"
   ]
  },
  {
   "cell_type": "code",
   "execution_count": 68,
   "metadata": {},
   "outputs": [
    {
     "name": "stdout",
     "output_type": "stream",
     "text": [
      "['foo', 'peekaboo', 'baz', 'dwarf']\n",
      "['foo', 'peekaboo', 'baz', 'dwarf', 'Ali', 'Mohammad', ('ali', 'mohammad'), 'Ex1', 'Ex2', 'Ex3', 'Ex4', 'Ex5']\n",
      "\n",
      "\n",
      "['foo', 'peekaboo', 'baz', 'dwarf', 'Ali', 'Mohammad', ('ali', 'mohammad'), 'Ex1', 'Ex2', 'Ex3', 'Ex4', 'Ex5', 'E', 'x', '1', 'E', 'x', '2', 'E', 'x', '3', 'E', 'x', '4', 'E', 'x', '5']\n",
      "\n",
      "\n",
      "['foo', 'peekaboo', 'baz', 'dwarf', 'Ali', 'Mohammad', ('ali', 'mohammad'), 'Ex1', 'Ex2', 'Ex3', 'Ex4', 'Ex5', 'E', 'x', '1', 'E', 'x', '2', 'E', 'x', '3', 'E', 'x', '4', 'E', 'x', '5', 'E', 'x', '1', 'E', 'x', '2', 'E', 'x', '3', 'E', 'x', '4', 'E', 'x', '5']\n"
     ]
    }
   ],
   "source": [
    "string_list = ['foo', 'red', 'peekaboo', 'baz', 'dwarf']\n",
    "\n",
    "#remove method\n",
    "string_list.remove('red')\n",
    "print(string_list)\n",
    "\n",
    "# += operator\n",
    "string_list += ['Ali', 'Mohammad', ('ali', 'mohammad')]\n",
    "string_list\n",
    "type(string_list[6])\n",
    "\n",
    "#--------------------------------------------\n",
    "extension1 = ['Ex1']\n",
    "extension2 = ['Ex2']\n",
    "extension3 = ['Ex3']\n",
    "extension4 = ['Ex4']\n",
    "extension5 = ['Ex5']\n",
    "extension6 = ['Ex6']\n",
    "extensions = []\n",
    "for i in range(1, 6):\n",
    "    extensions.extend(eval('extension'+str(i)))\n",
    "#----------------------------------------------\n",
    "for extension in extensions:\n",
    "    string_list.append(extension)\n",
    "print(string_list)\n",
    "print('\\n') \n",
    "\n",
    "#The difference between append and extend facing the strings\n",
    "# APPEND gets an item, yet the EXTEND method gets a list\n",
    "for extension in extensions:\n",
    "    string_list.extend(extension)\n",
    "print(string_list)\n",
    "print('\\n')\n",
    "\n",
    "# (+= acts like extend method)\n",
    "for extension in extensions:\n",
    "    string_list += extension\n",
    "print(string_list)"
   ]
  },
  {
   "cell_type": "markdown",
   "metadata": {},
   "source": [
    "### sort list"
   ]
  },
  {
   "cell_type": "code",
   "execution_count": 139,
   "metadata": {},
   "outputs": [
    {
     "name": "stdout",
     "output_type": "stream",
     "text": [
      "['foo', 'red', 'peekaboo', 'baz', 'dwarf']\n"
     ]
    },
    {
     "data": {
      "text/plain": [
       "['baz', 'dwarf', 'foo', 'peekaboo', 'red']"
      ]
     },
     "execution_count": 139,
     "metadata": {},
     "output_type": "execute_result"
    }
   ],
   "source": [
    "string_list = ['foo', 'red', 'peekaboo', 'baz', 'dwarf']\n",
    "print(string_list) \n",
    "string_list.sort() # inplace\n",
    "string_list"
   ]
  },
  {
   "cell_type": "code",
   "execution_count": 79,
   "metadata": {},
   "outputs": [
    {
     "data": {
      "text/plain": [
       "['baz', 'dwarf', 'foo', 'peekaboo', 'red']"
      ]
     },
     "execution_count": 79,
     "metadata": {},
     "output_type": "execute_result"
    }
   ],
   "source": [
    "sorted(string_list)"
   ]
  },
  {
   "cell_type": "code",
   "execution_count": 84,
   "metadata": {},
   "outputs": [],
   "source": [
    "numbers_list = [(2,4), (3,6), (2, 4), (6,7), (-1, -8)]\n",
    "\n",
    "def comparator(tuple):\n",
    "    return tuple[0]*tuple[1]\n",
    "\n",
    "numbers_list.sort(key=comparator)"
   ]
  },
  {
   "cell_type": "code",
   "execution_count": 85,
   "metadata": {},
   "outputs": [
    {
     "data": {
      "text/plain": [
       "[(2, 4), (2, 4), (-1, -8), (3, 6), (6, 7)]"
      ]
     },
     "execution_count": 85,
     "metadata": {},
     "output_type": "execute_result"
    }
   ],
   "source": [
    "numbers_list"
   ]
  },
  {
   "cell_type": "markdown",
   "metadata": {},
   "source": [
    "#### Binary search for sorting - BISECT"
   ]
  },
  {
   "cell_type": "code",
   "execution_count": 105,
   "metadata": {},
   "outputs": [
    {
     "name": "stdout",
     "output_type": "stream",
     "text": [
      "5 5 4\n"
     ]
    }
   ],
   "source": [
    "import bisect\n",
    "c = [1, 2, 2, 2, 3, 4, 7]\n",
    "\n",
    "#What is the difference of three methods of bisect:\n",
    "# if you want to insert or get the index of an item and a same value already exists in the List\n",
    "# bisect_right and bisect methods put the new item at the right of existing item\n",
    "# bisect_left puts the new item at the left side of existing item \n",
    "\n",
    "print(bisect.bisect_right(c, 3), bisect.bisect(c, 3), bisect.bisect_left(c, 3))"
   ]
  },
  {
   "cell_type": "code",
   "execution_count": 108,
   "metadata": {},
   "outputs": [
    {
     "data": {
      "text/plain": [
       "[1, 2, 2, 2, 3, 3, 3, 3, 4, 7]"
      ]
     },
     "execution_count": 108,
     "metadata": {},
     "output_type": "execute_result"
    }
   ],
   "source": [
    "# insort Bisect\n",
    "\n",
    "bisect.insort(c, 3)\n",
    "c"
   ]
  },
  {
   "cell_type": "markdown",
   "metadata": {},
   "source": [
    "#### Slicing"
   ]
  },
  {
   "cell_type": "code",
   "execution_count": 140,
   "metadata": {},
   "outputs": [
    {
     "name": "stdout",
     "output_type": "stream",
     "text": [
      "[1, 2, -99, 2, 3, 3, 3, 3, 4, 7]\n",
      "[1, -99, 3, 3, 4] [1, -99, 3, 3, 4]\n",
      "[7, 4, 3, 3, 3, 3, 2, -99, 2, 1]\n"
     ]
    }
   ],
   "source": [
    "c[2:3] = [-99]\n",
    "print(c)\n",
    "type(c[2:3]) #it is not a number, however it is an individual \n",
    "c[-3:-1]    #index of arrays => to the end:[-(size of array), ...... , -3, -2, -1], from the first element: [0, 1, 2, 3, ....]\n",
    "print(c[::2], c[0:-1: 2]) #from start to end, Step :2\n",
    "print(c[::-1]) # a technique to Reverse the List "
   ]
  },
  {
   "cell_type": "markdown",
   "metadata": {},
   "source": [
    "## Enumerate"
   ]
  },
  {
   "cell_type": "code",
   "execution_count": 141,
   "metadata": {},
   "outputs": [
    {
     "data": {
      "text/plain": [
       "{0: 'baz', 1: 'dwarf', 2: 'foo', 3: 'peekaboo', 4: 'red'}"
      ]
     },
     "execution_count": 141,
     "metadata": {},
     "output_type": "execute_result"
    }
   ],
   "source": [
    "map = {}\n",
    "for i, string in enumerate(string_list):\n",
    "    map[i] = string\n",
    "map"
   ]
  },
  {
   "cell_type": "markdown",
   "metadata": {},
   "source": [
    "## Zip"
   ]
  },
  {
   "cell_type": "code",
   "execution_count": 163,
   "metadata": {},
   "outputs": [
    {
     "name": "stdout",
     "output_type": "stream",
     "text": [
      "<zip object at 0x7f67fc6e4ac8>\n"
     ]
    }
   ],
   "source": [
    "numerical = [1, 2, 3, 4]\n",
    "English = ['one', 'two', 'three']\n",
    "Persian = ['Yek', 'Do', 'Se']\n",
    "\n",
    "pairs = zip(numerical, English, Persian)\n",
    "print(pairs)\n"
   ]
  },
  {
   "cell_type": "code",
   "execution_count": 168,
   "metadata": {},
   "outputs": [],
   "source": [
    "for i, (a, b, c) in enumerate(pairs):\n",
    "    print(\"numerical value: {0}, \\n English word: {1}, \\n Persian word: {2}\".format(a, b, c))"
   ]
  },
  {
   "cell_type": "markdown",
   "metadata": {},
   "source": [
    "### Reversed"
   ]
  },
  {
   "cell_type": "code",
   "execution_count": 176,
   "metadata": {},
   "outputs": [
    {
     "data": {
      "text/plain": [
       "[9, 8, 7, 6, 5, 4, 3, 2, 1]"
      ]
     },
     "execution_count": 176,
     "metadata": {},
     "output_type": "execute_result"
    }
   ],
   "source": [
    "rv = list(reversed(range(1, 10)))\n",
    "rv"
   ]
  },
  {
   "cell_type": "markdown",
   "metadata": {},
   "source": [
    "# Dict"
   ]
  },
  {
   "cell_type": "code",
   "execution_count": 184,
   "metadata": {},
   "outputs": [
    {
     "data": {
      "text/plain": [
       "[1, 2, 3, 4]"
      ]
     },
     "execution_count": 184,
     "metadata": {},
     "output_type": "execute_result"
    }
   ],
   "source": [
    "my_dict = {'a' : 'some value', 'b' : [1, 2, 3, 4]} #keys should be immutable\n",
    "my_dict['c'] = True\n",
    "my_dict['b']"
   ]
  },
  {
   "cell_type": "code",
   "execution_count": 186,
   "metadata": {},
   "outputs": [
    {
     "data": {
      "text/plain": [
       "(False, True)"
      ]
     },
     "execution_count": 186,
     "metadata": {},
     "output_type": "execute_result"
    }
   ],
   "source": [
    "'some value' in my_dict, 'a' in my_dict"
   ]
  },
  {
   "cell_type": "code",
   "execution_count": 190,
   "metadata": {},
   "outputs": [
    {
     "data": {
      "text/plain": [
       "(dict_keys(['a', 'b', 'c']), dict_values(['some value', [1, 2, 3, 4], True]))"
      ]
     },
     "execution_count": 190,
     "metadata": {},
     "output_type": "execute_result"
    }
   ],
   "source": [
    "my_dict.keys(), my_dict.values()"
   ]
  },
  {
   "cell_type": "code",
   "execution_count": 192,
   "metadata": {},
   "outputs": [
    {
     "data": {
      "text/plain": [
       "dict_items([('a', 'some value'), ('b', [1, 2, 3, 4]), ('c', True)])"
      ]
     },
     "execution_count": 192,
     "metadata": {},
     "output_type": "execute_result"
    }
   ],
   "source": [
    "my_dict.items()"
   ]
  },
  {
   "cell_type": "markdown",
   "metadata": {},
   "source": [
    "#### access the key of a value"
   ]
  },
  {
   "cell_type": "code",
   "execution_count": 202,
   "metadata": {},
   "outputs": [
    {
     "name": "stdout",
     "output_type": "stream",
     "text": [
      "a\n",
      "a\n"
     ]
    }
   ],
   "source": [
    "# way 1: convert values to List and access their index\n",
    "print(list(my_dict.keys())[list(my_dict.values()).index('some value')])\n",
    "\n",
    "# way 2: \n",
    "print(next(key for key, value in my_dict.items() if value == 'some value'))"
   ]
  },
  {
   "cell_type": "markdown",
   "metadata": {},
   "source": [
    "### merge two dicts"
   ]
  },
  {
   "cell_type": "code",
   "execution_count": 217,
   "metadata": {},
   "outputs": [
    {
     "data": {
      "text/plain": [
       "{'Ali': 'Sara', 'Mani': 'Mahi', 'Akbar': 'Kobra', 'Asghar': 'Soghra'}"
      ]
     },
     "execution_count": 217,
     "metadata": {},
     "output_type": "execute_result"
    }
   ],
   "source": [
    "Tehran = {'Ali':'Sara', 'Mani':'Mahi'}\n",
    "Yazd = {'Akbar':'Kobra', 'Asghar':'Soghra'}\n",
    "\n",
    "partners = {}\n",
    "partners.update(Tehran) #in-place changes\n",
    "partners.update(Yazd)\n",
    "\n",
    "partners"
   ]
  },
  {
   "cell_type": "code",
   "execution_count": 218,
   "metadata": {},
   "outputs": [
    {
     "data": {
      "text/plain": [
       "{'Ali': 'Sara', 'Akbar': 'Kobra'}"
      ]
     },
     "execution_count": 218,
     "metadata": {},
     "output_type": "execute_result"
    }
   ],
   "source": [
    "partners.pop('Asghar')\n",
    "del(partners['Mani'])\n",
    "\n",
    "partners\n"
   ]
  },
  {
   "cell_type": "markdown",
   "metadata": {},
   "source": [
    "#### Set Default value for keys:"
   ]
  },
  {
   "cell_type": "code",
   "execution_count": 223,
   "metadata": {},
   "outputs": [
    {
     "name": "stdout",
     "output_type": "stream",
     "text": [
      "1\n"
     ]
    }
   ],
   "source": [
    "words = ['apple', 'bat', 'bar', 'atom', 'book']\n",
    "words_tuple = tuple(words)\n",
    "print(words_tuple.count('apple'))\n",
    "\n",
    "letters = {}\n",
    "for word in words:\n",
    "    for letter in word:\n",
    "        letters.setdefault(letter, []).append(word) "
   ]
  },
  {
   "cell_type": "code",
   "execution_count": 224,
   "metadata": {},
   "outputs": [
    {
     "data": {
      "text/plain": [
       "{'a': ['apple', 'bat', 'bar', 'atom'],\n",
       " 'p': ['apple', 'apple'],\n",
       " 'l': ['apple'],\n",
       " 'e': ['apple'],\n",
       " 'b': ['bat', 'bar', 'book'],\n",
       " 't': ['bat', 'atom'],\n",
       " 'r': ['bar'],\n",
       " 'o': ['atom', 'book', 'book'],\n",
       " 'm': ['atom'],\n",
       " 'k': ['book']}"
      ]
     },
     "execution_count": 224,
     "metadata": {},
     "output_type": "execute_result"
    }
   ],
   "source": [
    "letters"
   ]
  },
  {
   "cell_type": "markdown",
   "metadata": {},
   "source": [
    "##### Immutable Objects:\n",
    "immutable objects, technically are called 'hashable'\n",
    "keys of a dict should be immutable\n",
    "\n",
    "##### to check whether one objec is hashable:"
   ]
  },
  {
   "cell_type": "code",
   "execution_count": 231,
   "metadata": {},
   "outputs": [
    {
     "data": {
      "text/plain": [
       "2528502973976161366"
      ]
     },
     "execution_count": 231,
     "metadata": {},
     "output_type": "execute_result"
    }
   ],
   "source": [
    "a = 12\n",
    "b = True\n",
    "c = 'ali'\n",
    "d = [1, 2, 4]\n",
    "t = tuple(d)\n",
    "\n",
    "hash(a), hash(b)\n",
    "hash(c)\n",
    "hash(t)"
   ]
  },
  {
   "cell_type": "code",
   "execution_count": null,
   "metadata": {},
   "outputs": [],
   "source": []
  }
 ],
 "metadata": {
  "kernelspec": {
   "display_name": "Python 3",
   "language": "python",
   "name": "python3"
  },
  "language_info": {
   "codemirror_mode": {
    "name": "ipython",
    "version": 3
   },
   "file_extension": ".py",
   "mimetype": "text/x-python",
   "name": "python",
   "nbconvert_exporter": "python",
   "pygments_lexer": "ipython3",
   "version": "3.7.3"
  }
 },
 "nbformat": 4,
 "nbformat_minor": 2
}
